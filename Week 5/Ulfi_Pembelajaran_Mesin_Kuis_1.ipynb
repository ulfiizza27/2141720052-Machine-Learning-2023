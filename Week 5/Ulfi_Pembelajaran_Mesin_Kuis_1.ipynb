{
  "cells": [
    {
      "cell_type": "markdown",
      "metadata": {
        "id": "j8DxEb__d-qh"
      },
      "source": [
        "# Kasus - Klasifikasi Tulisan Tangan dengan Dataset MNIST"
      ]
    },
    {
      "cell_type": "markdown",
      "metadata": {
        "id": "Gb84a8a3eptF"
      },
      "source": [
        "## Deskripsi Umum\n",
        "Anda diminta untuk melakukan klasifikasi dengan menggunakan algoritma Naive Bayes dan SVM untuk merekognisi tulisan tangan dari dataset MNIST"
      ]
    },
    {
      "cell_type": "markdown",
      "metadata": {
        "id": "KEx5J6i1euPr"
      },
      "source": [
        "## Tentang Dataset MNIST\n",
        "\n",
        "Dataset MNIST (Modified National Institute of Standards and Technology) merupakan dataset berupa citra grayscale dengan ukuran 28x28 yang berisi tulisan tangan dari digit angka 0-9. Jumlah data dalam dataset ini adalah 70.000 data."
      ]
    },
    {
      "cell_type": "markdown",
      "metadata": {
        "id": "0G4hvAMGfa7T"
      },
      "source": [
        "## Detail Kuis\n",
        "\n",
        "1. Pastikan jumlah data setiap label angka (0-9). Apakah terdapat data imbalance pada dataset MNIST yang digunakan? Jelaskan jawaban kelompok Anda dan buktikan!\n",
        "\n",
        "2. Tampilkan 15 buah citra pertama dari dataset MNIST berserta labelnya. Anda dapat menggunakan referensi dari Job Sheet 03.\n",
        "\n",
        "3. Lakukan proses ekstraksi fitur pada data MNIST. Pada proses ini, Anda diperbolehkan untuk\n",
        "    - Langsung menggunakan nilai asli dari citra (nilai asli setiap pixel dari dataset) sebagai fitur.\n",
        "    - Melakukan ekstraksi fitur lain seperti histogram, PCA, atau yang lainnya. Anda diperbolehkan melakukan ekspolarasi pada proses ini.\n",
        "\n",
        "4. Buatlah data training dan data testing menggunakan rasio 70:30, 80:20, 90:10.\n",
        "\n",
        "4. Lakukan proses klasifikasi dengan menggunakan algoritma Naive Bayes dan SVM.\n",
        "   - Anda diperbolehkan untuk melakukan tunning parameter.\n",
        "   - Anda diperbolehkan mengeksplorasi jenis kernel yang digunakan pada SVM.\n",
        "\n",
        "5. Evaluasi model yang Anda buat terhadap data training dan data testing.\n",
        "   - Gunakan metric *accuracy* untuk mengetahui tingkat akurasi data training dan data testing.\n",
        "   - Gunakan fungsi *classification_report* untuk mengetahui performa model secara holistik.\n",
        "   - Gunakan confusion matrix untuk mengetahui tingkat ketepatan pelabelan.\n",
        "\n",
        "6. Tampilkan citra data testing berserta hasil pelabelannya. Anda dapat menggunakan Job Sheet 03 sebagai acuan.\n",
        "\n",
        "7. Apa model terbaik yang Anda dapatkan? Bagaimana konfigurasinya? Berapa tingkat akurasi yang didapatkan? Jelaskan!"
      ]
    },
    {
      "cell_type": "markdown",
      "metadata": {
        "id": "aFXaRwkikbIk"
      },
      "source": [
        "# Bantuan\n",
        "\n",
        "Berikut merupakan kode bantuan untuk proses mengunduh dataset MNIST"
      ]
    },
    {
      "cell_type": "code",
      "execution_count": 1,
      "metadata": {
        "colab": {
          "base_uri": "https://localhost:8080/"
        },
        "id": "Ne3-Z5-wcTRt",
        "outputId": "a8efbe4e-93e1-4d59-ece6-5bfac7b58283"
      },
      "outputs": [],
      "source": [
        "# Unduh Dataset MNIST\n",
        "from sklearn.datasets import fetch_openml\n",
        "\n",
        "mnist = fetch_openml('mnist_784')"
      ]
    },
    {
      "cell_type": "code",
      "execution_count": 2,
      "metadata": {
        "colab": {
          "base_uri": "https://localhost:8080/"
        },
        "id": "VFcYRExSk8wl",
        "outputId": "51c3fc9d-2c88-41c3-e2a5-59e1679c2e8e"
      },
      "outputs": [
        {
          "name": "stdout",
          "output_type": "stream",
          "text": [
            "**Author**: Yann LeCun, Corinna Cortes, Christopher J.C. Burges  \n",
            "**Source**: [MNIST Website](http://yann.lecun.com/exdb/mnist/) - Date unknown  \n",
            "**Please cite**:  \n",
            "\n",
            "The MNIST database of handwritten digits with 784 features, raw data available at: http://yann.lecun.com/exdb/mnist/. It can be split in a training set of the first 60,000 examples, and a test set of 10,000 examples  \n",
            "\n",
            "It is a subset of a larger set available from NIST. The digits have been size-normalized and centered in a fixed-size image. It is a good database for people who want to try learning techniques and pattern recognition methods on real-world data while spending minimal efforts on preprocessing and formatting. The original black and white (bilevel) images from NIST were size normalized to fit in a 20x20 pixel box while preserving their aspect ratio. The resulting images contain grey levels as a result of the anti-aliasing technique used by the normalization algorithm. the images were centered in a 28x28 image by computing the center of mass of the pixels, and translating the image so as to position this point at the center of the 28x28 field.  \n",
            "\n",
            "With some classification methods (particularly template-based methods, such as SVM and K-nearest neighbors), the error rate improves when the digits are centered by bounding box rather than center of mass. If you do this kind of pre-processing, you should report it in your publications. The MNIST database was constructed from NIST's NIST originally designated SD-3 as their training set and SD-1 as their test set. However, SD-3 is much cleaner and easier to recognize than SD-1. The reason for this can be found on the fact that SD-3 was collected among Census Bureau employees, while SD-1 was collected among high-school students. Drawing sensible conclusions from learning experiments requires that the result be independent of the choice of training set and test among the complete set of samples. Therefore it was necessary to build a new database by mixing NIST's datasets.  \n",
            "\n",
            "The MNIST training set is composed of 30,000 patterns from SD-3 and 30,000 patterns from SD-1. Our test set was composed of 5,000 patterns from SD-3 and 5,000 patterns from SD-1. The 60,000 pattern training set contained examples from approximately 250 writers. We made sure that the sets of writers of the training set and test set were disjoint. SD-1 contains 58,527 digit images written by 500 different writers. In contrast to SD-3, where blocks of data from each writer appeared in sequence, the data in SD-1 is scrambled. Writer identities for SD-1 is available and we used this information to unscramble the writers. We then split SD-1 in two: characters written by the first 250 writers went into our new training set. The remaining 250 writers were placed in our test set. Thus we had two sets with nearly 30,000 examples each. The new training set was completed with enough examples from SD-3, starting at pattern # 0, to make a full set of 60,000 training patterns. Similarly, the new test set was completed with SD-3 examples starting at pattern # 35,000 to make a full set with 60,000 test patterns. Only a subset of 10,000 test images (5,000 from SD-1 and 5,000 from SD-3) is available on this site. The full 60,000 sample training set is available.\n",
            "\n",
            "Downloaded from openml.org.\n"
          ]
        }
      ],
      "source": [
        "# Baca deskripsi dataset\n",
        "# Tahap ini mungkin diperlukan untuk lebih memahami dataset\n",
        "print(mnist.DESCR)"
      ]
    },
    {
      "cell_type": "code",
      "execution_count": 3,
      "metadata": {
        "colab": {
          "base_uri": "https://localhost:8080/"
        },
        "id": "vw14DeY0lgVF",
        "outputId": "42ea11ec-7930-4b72-8c3f-f61c17a4f012"
      },
      "outputs": [
        {
          "data": {
            "text/plain": [
              "dict_keys(['data', 'target', 'frame', 'categories', 'feature_names', 'target_names', 'DESCR', 'details', 'url'])"
            ]
          },
          "execution_count": 3,
          "metadata": {},
          "output_type": "execute_result"
        }
      ],
      "source": [
        "# Inspeksi semua key dalam dataset\n",
        "# Cara ini digunakan untuk memahami struktur dari dataset MNIST\n",
        "mnist.keys()"
      ]
    },
    {
      "cell_type": "markdown",
      "metadata": {
        "id": "4q0IGRKYb_wF"
      },
      "source": [
        "1. Memastikan jumlah data setiap label angka (0-9)"
      ]
    },
    {
      "cell_type": "code",
      "execution_count": 4,
      "metadata": {
        "colab": {
          "base_uri": "https://localhost:8080/"
        },
        "id": "I4SRLrS8mlNx",
        "outputId": "3a96d248-3503-4c76-81af-eddfca642d81"
      },
      "outputs": [
        {
          "name": "stdout",
          "output_type": "stream",
          "text": [
            "Label 0: 6903 data\n",
            "Label 1: 7877 data\n",
            "Label 2: 6990 data\n",
            "Label 3: 7141 data\n",
            "Label 4: 6824 data\n",
            "Label 5: 6313 data\n",
            "Label 6: 6876 data\n",
            "Label 7: 7293 data\n",
            "Label 8: 6825 data\n",
            "Label 9: 6958 data\n"
          ]
        }
      ],
      "source": [
        "import numpy as np\n",
        "\n",
        "# Mengambil label dan fitur dari dataset\n",
        "X = mnist.data\n",
        "y = mnist.target\n",
        "\n",
        "# Menghitung jumlah data untuk setiap label\n",
        "label_counts = np.bincount(y.astype(int))\n",
        "\n",
        "# Menampilkan jumlah data untuk setiap label\n",
        "for label, count in enumerate(label_counts):\n",
        "    print(f\"Label {label}: {count} data\")"
      ]
    },
    {
      "cell_type": "markdown",
      "metadata": {
        "id": "Bs4c2I83fYD3"
      },
      "source": [
        "Penjelasan:\n",
        "\n",
        "Jika melihat data dari sampel paling terbanyak yaitu **Label 1** = 7877 data dan sampel terrendah yaitu **Label 5** = 6313 data, dimana data hanya memiliki sedikit perbedaan sehingga, mungkin bisa dikatakan bahwa data MNIST tidak imbalance."
      ]
    },
    {
      "cell_type": "markdown",
      "metadata": {
        "id": "xKPFUeLrc-3b"
      },
      "source": [
        "2. Tampilkan 15 buah citra pertama dari dataset MNIST berserta labelnya"
      ]
    },
    {
      "cell_type": "code",
      "execution_count": 5,
      "metadata": {
        "colab": {
          "base_uri": "https://localhost:8080/",
          "height": 471
        },
        "id": "mHJQOSN2mqgU",
        "outputId": "8ebb7259-3351-4bb3-dcaa-fc0cc62f56d4"
      },
      "outputs": [
        {
          "data": {
            "image/png": "[encoded data removed]",
            "text/plain": [
              "<Figure size 432x288 with 15 Axes>"
            ]
          },
          "metadata": {
            "needs_background": "light"
          },
          "output_type": "display_data"
        }
      ],
      "source": [
        "import matplotlib.pyplot as plt\n",
        "\n",
        "#Konversi X menjadi array NumPy\n",
        "X = X.values\n",
        "\n",
        "# Menampilkan 15 gambar pertama dengan labelnya\n",
        "fig, axes = plt.subplots(3, 5)\n",
        "for i, ax in enumerate(axes.flat):\n",
        "    img = X[i].reshape(28, 28)\n",
        "    ax.imshow(img, cmap='gray')\n",
        "    ax.set_title(f\"Label: {y[i]}\")\n",
        "    ax.axis('off')\n",
        "plt.tight_layout()\n",
        "plt.show()"
      ]
    },
    {
      "cell_type": "code",
      "execution_count": 6,
      "metadata": {
        "colab": {
          "base_uri": "https://localhost:8080/",
          "height": 471
        },
        "id": "yeA1WlF2jI6f",
        "outputId": "e0611668-7021-4502-ec6b-e725be578853"
      },
      "outputs": [
        {
          "data": {
            "image/png": "[encoded data removed]",
            "text/plain": [
              "<Figure size 432x288 with 15 Axes>"
            ]
          },
          "metadata": {
            "needs_background": "light"
          },
          "output_type": "display_data"
        }
      ],
      "source": [
        "import matplotlib.pyplot as plt\n",
        "\n",
        "# Menampilkan 15 gambar pertama dengan labelnya\n",
        "fig, axes = plt.subplots(3, 5)\n",
        "for i, ax in enumerate(axes.flat):\n",
        "    ax.imshow(mnist.data.iloc[i].values.reshape(28, 28), cmap='gray')\n",
        "    ax.set_title(f\"Label: {mnist.target[i]}\")\n",
        "    ax.axis('off')\n",
        "plt.tight_layout()\n",
        "plt.show()"
      ]
    },
    {
      "cell_type": "markdown",
      "metadata": {
        "id": "mihyNCwKnfiA"
      },
      "source": [
        "3. Ekstraksi fitur pada data MNIST\n",
        "\n",
        "- Langsung menggunakan nilai asli dari citra (nilai asli setiap pixel dari dataset) sebagai fitur.\n",
        "- Melakukan ekstraksi fitur lain seperti histogram, PCA, atau yang lainnya. Anda diperbolehkan melakukan ekspolarasi pada proses ini."
      ]
    },
    {
      "cell_type": "markdown",
      "metadata": {
        "id": "V2qoRt7CyWil"
      },
      "source": [
        "a. Menggunakan Nilai Asli Pixel sebagai Fitur\n",
        "\n",
        "dapat menggunakan nilai asli dari citra (nilai piksel) sebagai fitur. Setiap citra dalam dataset MNIST adalah gambar grayscale dengan resolusi 28x28 piksel, jadi setiap citra akan memiliki 28 * 28 = 784 fitur, masing-masing merepresentasikan tingkat kecerahan (0-255) dari setiap piksel. Berikut adalah contoh bagaimana dapat menggunakan nilai asli piksel sebagai fitur"
      ]
    },
    {
      "cell_type": "code",
      "execution_count": 7,
      "metadata": {
        "id": "x57fseYmnzPl"
      },
      "outputs": [],
      "source": [
        "# a. Menggunakan Nilai Asli (Raw Pixel Values) sebagai Fitur\n",
        "\n",
        "X_raw = X  # Menggunakan nilai asli (raw pixel values) sebagai fitur"
      ]
    },
    {
      "cell_type": "markdown",
      "metadata": {
        "id": "ZlWPjdh6yiaR"
      },
      "source": [
        "Dengan kode di atas, X_raw akan berisi nilai piksel asli dari setiap citra sebagai fitur."
      ]
    },
    {
      "cell_type": "markdown",
      "metadata": {
        "id": "2UwtkKYiylHB"
      },
      "source": [
        "b. Ekstraksi Fitur Menggunakan PCA\n",
        "\n",
        "Anda juga dapat melakukan ekstraksi fitur menggunakan PCA. PCA adalah teknik untuk mengurangi dimensi data dengan memproyeksikan data ke ruang berdimensi lebih rendah. Dalam konteks MNIST, Anda dapat menggunakan PCA untuk mengurangi dimensi dari 784 fitur menjadi sejumlah komponen utama yang lebih kecil. Berikut adalah contoh bagaimana Anda dapat melakukan ekstraksi fitur menggunakan PCA"
      ]
    },
    {
      "cell_type": "code",
      "execution_count": 9,
      "metadata": {
        "colab": {
          "base_uri": "https://localhost:8080/"
        },
        "id": "-barGzN12EvK",
        "outputId": "4dc63c1a-da17-485c-b7f9-be07ee4a4561"
      },
      "outputs": [
        {
          "name": "stdout",
          "output_type": "stream",
          "text": [
            "Shape of X_pca: (70000, 85)\n"
          ]
        }
      ],
      "source": [
        "from sklearn.decomposition import PCA\n",
        "\n",
        "# Menentukan jumlah komponen utama yang diinginkan\n",
        "n_components = 85  # Misalnya, kita akan menggunakan 50 komponen utama\n",
        "\n",
        "# Melakukan PCA\n",
        "pca = PCA(n_components=n_components)\n",
        "X_pca = pca.fit_transform(X)\n",
        "\n",
        "# Sekarang, X_pca berisi data yang telah dikurangi dimensinya menggunakan PCA\n",
        "print(\"Shape of X_pca:\", X_pca.shape)"
      ]
    },
    {
      "cell_type": "markdown",
      "metadata": {
        "id": "B2V_W2pxr5U7"
      },
      "source": [
        "4. Melakukan Data Training dan Data Testing menggunakan rasio 70:30, 80:20, 90:10"
      ]
    },
    {
      "cell_type": "code",
      "execution_count": 10,
      "metadata": {
        "id": "YL4q6Xok9_0U"
      },
      "outputs": [],
      "source": [
        "from sklearn.model_selection import train_test_split\n",
        "\n",
        "# Bagi data PCA menjadi data training (70%) dan data testing (30%)\n",
        "X_train_pca_70, X_test_pca_70, y_train_pca_70, y_test_pca_70 = train_test_split(X_pca, y, test_size=0.3, random_state=42)\n",
        "\n",
        "# Bagi data PCA menjadi data training (80%) dan data testing (20%)\n",
        "X_train_pca_80, X_test_pca_80, y_train_pca_80, y_test_pca_80 = train_test_split(X_pca, y, test_size=0.2, random_state=42)\n",
        "\n",
        "# Bagi data PCA menjadi data training (90%) dan data testing (10%)\n",
        "X_train_pca_90, X_test_pca_90, y_train_pca_90, y_test_pca_90 = train_test_split(X_pca, y, test_size=0.1, random_state=42)"
      ]
    },
    {
      "cell_type": "code",
      "execution_count": 11,
      "metadata": {
        "colab": {
          "base_uri": "https://localhost:8080/"
        },
        "id": "_05XSe-X5eAq",
        "outputId": "f2a80a30-d9f3-4157-d548-125b40c298a2"
      },
      "outputs": [
        {
          "name": "stdout",
          "output_type": "stream",
          "text": [
            "Jumlah data training dan data testing (70:30):\n",
            "Data training:  49000\n",
            "Data testing:  21000\n",
            "\n",
            "Jumlah data training dan data testing (80:20):\n",
            "Data training:  56000\n",
            "Data testing:  14000\n",
            "\n",
            "Jumlah data training dan data testing (90:10):\n",
            "Data training:  63000\n",
            "Data testing:  7000\n"
          ]
        }
      ],
      "source": [
        "# Jumlah data training dan data testing pada rasio 70:30\n",
        "n_train_70 = len(X_train_pca_70)\n",
        "n_test_70 = len(X_test_pca_70)\n",
        "\n",
        "# Jumlah data training dan data testing pada rasio 80:20\n",
        "n_train_80 = len(X_train_pca_80)\n",
        "n_test_80 = len(X_test_pca_80)\n",
        "\n",
        "# Jumlah data training dan data testing pada rasio 90:10\n",
        "n_train_90 = len(X_train_pca_90)\n",
        "n_test_90 = len(X_test_pca_90)\n",
        "\n",
        "# Menampilkan jumlah data training dan data testing pada setiap rasio\n",
        "print(\"Jumlah data training dan data testing (70:30):\")\n",
        "print(\"Data training: \", n_train_70)\n",
        "print(\"Data testing: \", n_test_70)\n",
        "\n",
        "print(\"\\nJumlah data training dan data testing (80:20):\")\n",
        "print(\"Data training: \", n_train_80)\n",
        "print(\"Data testing: \", n_test_80)\n",
        "\n",
        "print(\"\\nJumlah data training dan data testing (90:10):\")\n",
        "print(\"Data training: \", n_train_90)\n",
        "print(\"Data testing: \", n_test_90)"
      ]
    },
    {
      "cell_type": "markdown",
      "metadata": {
        "id": "diRvBZfo3haB"
      },
      "source": [
        "5. Melakukan klasifikasi dengan menggunakan algoritma Naive Bayes dan SVM.\n",
        "\n",
        "- Diperbolehkan untuk melakukan tunning parameter.\n",
        "- Diperbolehkan mengeksplorasi jenis kernel yang digunakan pada SVM"
      ]
    },
    {
      "cell_type": "markdown",
      "metadata": {
        "id": "uSHityPD669i"
      },
      "source": [
        "**Naive Bayes**\n",
        "\n",
        "(70:30)"
      ]
    },
    {
      "cell_type": "code",
      "execution_count": 12,
      "metadata": {
        "colab": {
          "base_uri": "https://localhost:8080/"
        },
        "id": "7YWj6hO03hE0",
        "outputId": "a6564b93-d9f9-483a-aaf0-44cdf6e75658"
      },
      "outputs": [
        {
          "name": "stdout",
          "output_type": "stream",
          "text": [
            "Akurasi Naive Bayes pada Data Training (70:30): 0.8723469387755102\n",
            "Akurasi Naive Bayes pada Data Testing (70:30): 0.8715238095238095\n"
          ]
        }
      ],
      "source": [
        "from sklearn.naive_bayes import GaussianNB\n",
        "from sklearn.metrics import accuracy_score\n",
        "\n",
        "# Inisialisasi model Naive Bayes\n",
        "nb_model = GaussianNB()\n",
        "\n",
        "# Latih model Naive Bayes pada data training (70:30)\n",
        "nb_model.fit(X_train_pca_70, y_train_pca_70)\n",
        "\n",
        "# Prediksi label untuk data training dan data testing\n",
        "y_train_pred_nb_70 = nb_model.predict(X_train_pca_70)\n",
        "y_test_pred_nb_70 = nb_model.predict(X_test_pca_70)\n",
        "\n",
        "# Evaluasi performa model Naive Bayes\n",
        "accuracy_train_nb_70 = accuracy_score(y_train_pca_70, y_train_pred_nb_70)\n",
        "accuracy_test_nb_70 = accuracy_score(y_test_pca_70, y_test_pred_nb_70)\n",
        "\n",
        "print(\"Akurasi Naive Bayes pada Data Training (70:30):\", accuracy_train_nb_70)\n",
        "print(\"Akurasi Naive Bayes pada Data Testing (70:30):\", accuracy_test_nb_70)"
      ]
    },
    {
      "cell_type": "markdown",
      "metadata": {
        "id": "5fmSXkI9Cr-_"
      },
      "source": [
        "(80:20)"
      ]
    },
    {
      "cell_type": "code",
      "execution_count": 13,
      "metadata": {
        "colab": {
          "base_uri": "https://localhost:8080/"
        },
        "id": "sA6vzGoECvY3",
        "outputId": "7ecce241-b27c-44d1-e6a6-9d2049a5c24e"
      },
      "outputs": [
        {
          "name": "stdout",
          "output_type": "stream",
          "text": [
            "Akurasi Naive Bayes pada Data Training (80:20): 0.8723928571428572\n",
            "Akurasi Naive Bayes pada Data Testing (80:20): 0.8721428571428571\n"
          ]
        }
      ],
      "source": [
        "# Inisialisasi model Naive Bayes\n",
        "nb_model = GaussianNB()\n",
        "\n",
        "# Latih model Naive Bayes pada data training (80:20)\n",
        "nb_model.fit(X_train_pca_80, y_train_pca_80)\n",
        "\n",
        "# Prediksi label untuk data training dan data testing\n",
        "y_train_pred_nb_80 = nb_model.predict(X_train_pca_80)\n",
        "y_test_pred_nb_80 = nb_model.predict(X_test_pca_80)\n",
        "\n",
        "# Evaluasi performa model Naive Bayes\n",
        "accuracy_train_nb_80 = accuracy_score(y_train_pca_80, y_train_pred_nb_80)\n",
        "accuracy_test_nb_80 = accuracy_score(y_test_pca_80, y_test_pred_nb_80)\n",
        "\n",
        "print(\"Akurasi Naive Bayes pada Data Training (80:20):\", accuracy_train_nb_80)\n",
        "print(\"Akurasi Naive Bayes pada Data Testing (80:20):\", accuracy_test_nb_80)"
      ]
    },
    {
      "cell_type": "markdown",
      "metadata": {
        "id": "cXYUqeqrC6ev"
      },
      "source": [
        "(90:10)"
      ]
    },
    {
      "cell_type": "code",
      "execution_count": 14,
      "metadata": {
        "colab": {
          "base_uri": "https://localhost:8080/"
        },
        "id": "kJ7H1iYmC8Jy",
        "outputId": "dcf9c92d-621d-4215-f8bb-c37cf74b54dd"
      },
      "outputs": [
        {
          "name": "stdout",
          "output_type": "stream",
          "text": [
            "Akurasi Naive Bayes pada Data Training (90:10): 0.8730634920634921\n",
            "Akurasi Naive Bayes pada Data Testing (90:10): 0.8714285714285714\n"
          ]
        }
      ],
      "source": [
        "# Inisialisasi model Naive Bayes\n",
        "nb_model = GaussianNB()\n",
        "\n",
        "# Latih model Naive Bayes pada data training (90:10)\n",
        "nb_model.fit(X_train_pca_90, y_train_pca_90)\n",
        "\n",
        "# Prediksi label untuk data training dan data testing\n",
        "y_train_pred_nb_90 = nb_model.predict(X_train_pca_90)\n",
        "y_test_pred_nb_90 = nb_model.predict(X_test_pca_90)\n",
        "\n",
        "# Evaluasi performa model Naive Bayes\n",
        "accuracy_train_nb_90 = accuracy_score(y_train_pca_90, y_train_pred_nb_90)\n",
        "accuracy_test_nb_90 = accuracy_score(y_test_pca_90, y_test_pred_nb_90)\n",
        "\n",
        "print(\"Akurasi Naive Bayes pada Data Training (90:10):\", accuracy_train_nb_90)\n",
        "print(\"Akurasi Naive Bayes pada Data Testing (90:10):\", accuracy_test_nb_90)"
      ]
    },
    {
      "cell_type": "markdown",
      "metadata": {
        "id": "FJZeg8elB8eB"
      },
      "source": [
        "**Klasifikasi SVM**\n",
        "\n",
        "(70:30)"
      ]
    },
    {
      "cell_type": "code",
      "execution_count": 15,
      "metadata": {
        "colab": {
          "base_uri": "https://localhost:8080/"
        },
        "id": "c7BUsDE7gsKM",
        "outputId": "ef07d563-0995-480b-9604-09ae6e27a7bf"
      },
      "outputs": [
        {
          "name": "stdout",
          "output_type": "stream",
          "text": [
            "Akurasi SVM dengan kernel RBF pada Data Training (70:30): 0.9925306122448979\n",
            "Akurasi SVM dengan kernel RBF pada Data Testing (70:30): 0.9809523809523809\n"
          ]
        }
      ],
      "source": [
        "from sklearn.svm import SVC\n",
        "from sklearn.metrics import accuracy_score\n",
        "\n",
        "# Inisialisasi model SVM dengan kernel RBF\n",
        "svm_rbf_model = SVC(kernel='rbf', C=1.0, gamma='scale')  # 'scale' adalah pilihan yang umum untuk gamma\n",
        "\n",
        "# Latih model SVM pada data training (70:30)\n",
        "svm_rbf_model.fit(X_train_pca_70, y_train_pca_70)\n",
        "\n",
        "# Prediksi label untuk data training dan data testing\n",
        "y_train_pred_svm_rbf_70 = svm_rbf_model.predict(X_train_pca_70)\n",
        "y_test_pred_svm_rbf_70 = svm_rbf_model.predict(X_test_pca_70)\n",
        "\n",
        "# Evaluasi performa model SVM dengan kernel RBF\n",
        "accuracy_train_svm_rbf_70 = accuracy_score(y_train_pca_70, y_train_pred_svm_rbf_70)\n",
        "accuracy_test_svm_rbf_70 = accuracy_score(y_test_pca_70, y_test_pred_svm_rbf_70)\n",
        "\n",
        "print(\"Akurasi SVM dengan kernel RBF pada Data Training (70:30):\", accuracy_train_svm_rbf_70)\n",
        "print(\"Akurasi SVM dengan kernel RBF pada Data Testing (70:30):\", accuracy_test_svm_rbf_70)"
      ]
    },
    {
      "cell_type": "code",
      "execution_count": null,
      "metadata": {
        "id": "ZxxN9jCTCQy9"
      },
      "outputs": [],
      "source": [
        "from sklearn.svm import SVC\n",
        "from sklearn.metrics import accuracy_score\n",
        "\n",
        "# Inisialisasi model SVM dengan kernel linear\n",
        "svm_linear_model = SVC(kernel='linear', C=1.0)\n",
        "\n",
        "# Latih model SVM pada data training (70:30)\n",
        "svm_linear_model.fit(X_train_pca_70, y_train_pca_70)\n",
        "\n",
        "# Prediksi label untuk data training dan data testing\n",
        "y_train_pred_svm_70 = svm_linear_model.predict(X_train_pca_70)\n",
        "y_test_pred_svm_70 = svm_linear_model.predict(X_test_pca_70)\n",
        "\n",
        "# Evaluasi performa model SVM\n",
        "accuracy_train_svm_70 = accuracy_score(y_train_pca_70, y_train_pred_svm_70)\n",
        "accuracy_test_svm_70 = accuracy_score(y_test_pca_70, y_test_pred_svm_70)\n",
        "\n",
        "print(\"Akurasi SVM pada Data Training (70:30):\", accuracy_train_svm_70)\n",
        "print(\"Akurasi SVM pada Data Testing (70:30):\", accuracy_test_svm_70)\n"
      ]
    },
    {
      "cell_type": "markdown",
      "metadata": {
        "id": "nZEw9SSNC_n6"
      },
      "source": [
        "(80:20)"
      ]
    },
    {
      "cell_type": "code",
      "execution_count": 17,
      "metadata": {
        "colab": {
          "base_uri": "https://localhost:8080/"
        },
        "id": "XrXe37SwjL62",
        "outputId": "5e15f38a-023b-488c-f3f2-b063548e0914"
      },
      "outputs": [
        {
          "name": "stdout",
          "output_type": "stream",
          "text": [
            "Akurasi SVM dengan kernel RBF pada Data Training (80:20): 0.9927857142857143\n",
            "Akurasi SVM dengan kernel RBF pada Data Testing (80:20): 0.981\n"
          ]
        }
      ],
      "source": [
        "# Inisialisasi model SVM dengan kernel RBF\n",
        "svm_rbf_model_80 = SVC(kernel='rbf', C=1.0, gamma='scale')  # 'scale' adalah pilihan yang umum untuk gamma\n",
        "\n",
        "# Latih model SVM pada data training (80:20)\n",
        "svm_rbf_model_80.fit(X_train_pca_80, y_train_pca_80)\n",
        "\n",
        "# Prediksi label untuk data training dan data testing\n",
        "y_train_pred_svm_rbf_80 = svm_rbf_model_80.predict(X_train_pca_80)\n",
        "y_test_pred_svm_rbf_80 = svm_rbf_model_80.predict(X_test_pca_80)\n",
        "\n",
        "# Evaluasi performa model SVM dengan kernel RBF\n",
        "accuracy_train_svm_rbf_80 = accuracy_score(y_train_pca_80, y_train_pred_svm_rbf_80)\n",
        "accuracy_test_svm_rbf_80 = accuracy_score(y_test_pca_80, y_test_pred_svm_rbf_80)\n",
        "\n",
        "print(\"Akurasi SVM dengan kernel RBF pada Data Training (80:20):\", accuracy_train_svm_rbf_80)\n",
        "print(\"Akurasi SVM dengan kernel RBF pada Data Testing (80:20):\", accuracy_test_svm_rbf_80)\n"
      ]
    },
    {
      "cell_type": "code",
      "execution_count": null,
      "metadata": {
        "id": "br3FNiUuDAuY"
      },
      "outputs": [],
      "source": [
        "# Inisialisasi model SVM dengan kernel linear\n",
        "svm_linear_model = SVC(kernel='linear', C=1.0)\n",
        "\n",
        "# Latih model SVM pada data training (80:20)\n",
        "svm_linear_model.fit(X_train_pca_80, y_train_pca_80)\n",
        "\n",
        "# Prediksi label untuk data training dan data testing\n",
        "y_train_pred_svm_80 = svm_linear_model.predict(X_train_pca_80)\n",
        "y_test_pred_svm_80 = svm_linear_model.predict(X_test_pca_80)\n",
        "\n",
        "# Evaluasi performa model SVM\n",
        "accuracy_train_svm_80 = accuracy_score(y_train_pca_80, y_train_pred_svm_80)\n",
        "accuracy_test_svm_80 = accuracy_score(y_test_pca_80, y_test_pred_svm_80)\n",
        "\n",
        "print(\"Akurasi SVM pada Data Training (80:20):\", accuracy_train_svm_80)\n",
        "print(\"Akurasi SVM pada Data Testing (80:20):\", accuracy_test_svm_80)"
      ]
    },
    {
      "cell_type": "markdown",
      "metadata": {
        "id": "OWbT67ojDDyB"
      },
      "source": [
        "(90:10)"
      ]
    },
    {
      "cell_type": "code",
      "execution_count": 18,
      "metadata": {
        "colab": {
          "base_uri": "https://localhost:8080/"
        },
        "id": "dYMi-QvNjsY7",
        "outputId": "719afee2-ff2c-4c04-a8cf-3567c577eb28"
      },
      "outputs": [
        {
          "name": "stdout",
          "output_type": "stream",
          "text": [
            "Akurasi SVM dengan kernel RBF pada Data Training (90:10): 0.9929206349206349\n",
            "Akurasi SVM dengan kernel RBF pada Data Testing (90:10): 0.9802857142857143\n"
          ]
        }
      ],
      "source": [
        "# Inisialisasi model SVM dengan kernel RBF\n",
        "svm_rbf_model_90 = SVC(kernel='rbf', C=1.0, gamma='scale')  # 'scale' adalah pilihan yang umum untuk gamma\n",
        "\n",
        "# Latih model SVM pada data training (90:10)\n",
        "svm_rbf_model_90.fit(X_train_pca_90, y_train_pca_90)\n",
        "\n",
        "# Prediksi label untuk data training dan data testing\n",
        "y_train_pred_svm_rbf_90 = svm_rbf_model_90.predict(X_train_pca_90)\n",
        "y_test_pred_svm_rbf_90 = svm_rbf_model_90.predict(X_test_pca_90)\n",
        "\n",
        "# Evaluasi performa model SVM dengan kernel RBF\n",
        "accuracy_train_svm_rbf_90 = accuracy_score(y_train_pca_90, y_train_pred_svm_rbf_90)\n",
        "accuracy_test_svm_rbf_90 = accuracy_score(y_test_pca_90, y_test_pred_svm_rbf_90)\n",
        "\n",
        "print(\"Akurasi SVM dengan kernel RBF pada Data Training (90:10):\", accuracy_train_svm_rbf_90)\n",
        "print(\"Akurasi SVM dengan kernel RBF pada Data Testing (90:10):\", accuracy_test_svm_rbf_90)\n"
      ]
    },
    {
      "cell_type": "code",
      "execution_count": null,
      "metadata": {
        "id": "Msu9fWJRDHI_"
      },
      "outputs": [],
      "source": [
        "# Inisialisasi model SVM dengan kernel linear\n",
        "svm_linear_model = SVC(kernel='linear', C=1.0)\n",
        "\n",
        "# Latih model SVM pada data training (90:10)\n",
        "svm_linear_model.fit(X_train_pca_90, y_train_pca_90)\n",
        "\n",
        "# Prediksi label untuk data training dan data testing\n",
        "y_train_pred_svm_90 = svm_linear_model.predict(X_train_pca_90)\n",
        "y_test_pred_svm_90 = svm_linear_model.predict(X_test_pca_90)\n",
        "\n",
        "# Evaluasi performa model SVM\n",
        "accuracy_train_svm_90 = accuracy_score(y_train_pca_90, y_train_pred_svm_90)\n",
        "accuracy_test_svm_90 = accuracy_score(y_test_pca_90, y_test_pred_svm_90)\n",
        "\n",
        "print(\"Akurasi SVM pada Data Training (90:10):\", accuracy_train_svm_90)\n",
        "print(\"Akurasi SVM pada Data Testing (90:10):\", accuracy_test_svm_90)"
      ]
    },
    {
      "cell_type": "markdown",
      "metadata": {
        "id": "nbYCoj4TkO7W"
      },
      "source": [
        "5. Lakukab evaluasi model yang Anda buat terhadap data training dan data testing.\n",
        "\n",
        "- Gunakan metric accuracy untuk mengetahui tingkat akurasi data training dan data testing.\n",
        "- Gunakan fungsi classification_report untuk mengetahui performa model secara holistik.\n",
        "- Gunakan confusion matrix untuk mengetahui tingkat ketepatan pelabelan"
      ]
    },
    {
      "cell_type": "markdown",
      "metadata": {
        "id": "0qrplOgDkuJe"
      },
      "source": [
        "70:30"
      ]
    },
    {
      "cell_type": "code",
      "execution_count": 21,
      "metadata": {
        "colab": {
          "base_uri": "https://localhost:8080/"
        },
        "id": "YsUZIfn2kklJ",
        "outputId": "3173f964-2024-476f-ced8-4068ddbbfbc0"
      },
      "outputs": [
        {
          "name": "stdout",
          "output_type": "stream",
          "text": [
            "Evaluasi Model pada Data Training (70:30):\n",
            "Akurasi pada Data Training (70:30): 0.9983673469387755\n",
            "              precision    recall  f1-score   support\n",
            "\n",
            "           0       1.00      1.00      1.00      4845\n",
            "           1       1.00      1.00      1.00      5513\n",
            "           2       1.00      1.00      1.00      4857\n",
            "           3       1.00      1.00      1.00      4965\n",
            "           4       1.00      1.00      1.00      4888\n",
            "           5       1.00      1.00      1.00      4398\n",
            "           6       1.00      1.00      1.00      4788\n",
            "           7       1.00      1.00      1.00      5045\n",
            "           8       1.00      1.00      1.00      4833\n",
            "           9       1.00      1.00      1.00      4868\n",
            "\n",
            "    accuracy                           1.00     49000\n",
            "   macro avg       1.00      1.00      1.00     49000\n",
            "weighted avg       1.00      1.00      1.00     49000\n",
            "\n",
            "Confusion Matrix pada Data Training (70:30):\n",
            "[[4844    0    0    0    0    0    1    0    0    0]\n",
            " [   0 5509    0    0    0    0    0    4    0    0]\n",
            " [   0    1 4851    0    1    0    0    4    0    0]\n",
            " [   0    0    1 4955    0    4    0    1    1    3]\n",
            " [   0    1    0    0 4879    0    2    1    0    5]\n",
            " [   0    0    0    3    0 4393    2    0    0    0]\n",
            " [   0    1    0    0    0    0 4787    0    0    0]\n",
            " [   0    7    2    0    3    0    0 5030    0    3]\n",
            " [   0    1    1    1    0    2    0    0 4828    0]\n",
            " [   0    1    0    1   12    1    0    9    0 4844]]\n",
            "\n",
            "Evaluasi Model pada Data Testing (70:30):\n",
            "Akurasi pada Data Testing (70:30): 0.9842857142857143\n",
            "              precision    recall  f1-score   support\n",
            "\n",
            "           0       0.99      0.99      0.99      2058\n",
            "           1       0.99      0.99      0.99      2364\n",
            "           2       0.98      0.98      0.98      2133\n",
            "           3       0.99      0.98      0.98      2176\n",
            "           4       0.98      0.98      0.98      1936\n",
            "           5       0.99      0.98      0.98      1915\n",
            "           6       0.99      0.99      0.99      2088\n",
            "           7       0.98      0.98      0.98      2248\n",
            "           8       0.99      0.98      0.98      1992\n",
            "           9       0.98      0.97      0.98      2090\n",
            "\n",
            "    accuracy                           0.98     21000\n",
            "   macro avg       0.98      0.98      0.98     21000\n",
            "weighted avg       0.98      0.98      0.98     21000\n",
            "\n",
            "Confusion Matrix pada Data Testing (70:30):\n",
            "[[2041    0    4    0    1    1    7    1    3    0]\n",
            " [   0 2351    5    2    1    0    1    4    0    0]\n",
            " [   3    5 2101    2    3    1    1   12    3    2]\n",
            " [   1    1   17 2129    3    7    0    6    8    4]\n",
            " [   1    4    3    0 1902    0    2    5    1   18]\n",
            " [   3    1    0   13    4 1876   11    0    5    2]\n",
            " [   2    0    0    0    5    5 2076    0    0    0]\n",
            " [   1    3   12    1    6    1    0 2214    1    9]\n",
            " [   6    8    4    7    2    3    7    4 1946    5]\n",
            " [   9    7    2    6   17    2    0    9    4 2034]]\n"
          ]
        }
      ],
      "source": [
        "from sklearn.metrics import classification_report, confusion_matrix\n",
        "\n",
        "# Evaluasi model SVM dengan kernel RBF pada Data Training (70:30)\n",
        "print(\"Evaluasi Model pada Data Training (70:30):\")\n",
        "print(\"Akurasi pada Data Training (70:30):\", accuracy_train_svm_rbf_70)\n",
        "print(classification_report(y_train_pca_70, y_train_pred_svm_rbf_70))\n",
        "print(\"Confusion Matrix pada Data Training (70:30):\")\n",
        "print(confusion_matrix(y_train_pca_70, y_train_pred_svm_rbf_70))\n",
        "\n",
        "# Evaluasi model SVM dengan kernel RBF pada Data Testing (70:30)\n",
        "print(\"\\nEvaluasi Model pada Data Testing (70:30):\")\n",
        "print(\"Akurasi pada Data Testing (70:30):\", accuracy_test_svm_rbf_70)\n",
        "print(classification_report(y_test_pca_70, y_test_pred_svm_rbf_70))\n",
        "print(\"Confusion Matrix pada Data Testing (70:30):\")\n",
        "print(confusion_matrix(y_test_pca_70, y_test_pred_svm_rbf_70))"
      ]
    },
    {
      "cell_type": "markdown",
      "metadata": {
        "id": "ONDDG_1gk47i"
      },
      "source": [
        "80:20"
      ]
    },
    {
      "cell_type": "code",
      "execution_count": 26,
      "metadata": {
        "colab": {
          "base_uri": "https://localhost:8080/"
        },
        "id": "UXzIcuXFk5z1",
        "outputId": "b177001c-15dd-49fc-a426-553b8f33c3bf"
      },
      "outputs": [
        {
          "name": "stdout",
          "output_type": "stream",
          "text": [
            "Evaluasi Model pada Data Training (80:20):\n",
            "Akurasi pada Data Training (80:20): 0.9927857142857143\n",
            "              precision    recall  f1-score   support\n",
            "\n",
            "           0       1.00      1.00      1.00      5560\n",
            "           1       0.99      1.00      0.99      6277\n",
            "           2       0.99      0.99      0.99      5610\n",
            "           3       1.00      0.99      0.99      5708\n",
            "           4       0.99      0.99      0.99      5529\n",
            "           5       0.99      0.99      0.99      5040\n",
            "           6       1.00      1.00      1.00      5480\n",
            "           7       0.99      0.99      0.99      5790\n",
            "           8       1.00      0.99      0.99      5468\n",
            "           9       0.99      0.99      0.99      5538\n",
            "\n",
            "    accuracy                           0.99     56000\n",
            "   macro avg       0.99      0.99      0.99     56000\n",
            "weighted avg       0.99      0.99      0.99     56000\n",
            "\n",
            "Confusion Matrix pada Data Training (80:20):\n",
            "[[5547    1    0    1    2    2    3    0    1    3]\n",
            " [   1 6253   10    0    1    0    1    8    1    2]\n",
            " [   3    2 5575    2    8    0    1   14    3    2]\n",
            " [   1    2    7 5652    0   13    0   13   12    8]\n",
            " [   3    6    2    0 5480    0    9    4    1   24]\n",
            " [   4    1    1   10    1 5007   10    1    1    4]\n",
            " [   7    3    1    0    3    4 5461    0    1    0]\n",
            " [   1   16   11    1   10    1    0 5733    2   15]\n",
            " [   2   11    8    7    3    7    2    2 5424    2]\n",
            " [   4    3    1    7   27    6    1   20    5 5464]]\n",
            "\n",
            "Evaluasi Model pada Data Testing (80:20):\n",
            "Akurasi pada Data Testing (80:20): 0.981\n",
            "              precision    recall  f1-score   support\n",
            "\n",
            "           0       0.99      0.99      0.99      1343\n",
            "           1       0.99      0.99      0.99      1600\n",
            "           2       0.97      0.99      0.98      1380\n",
            "           3       0.98      0.97      0.97      1433\n",
            "           4       0.98      0.98      0.98      1295\n",
            "           5       0.98      0.98      0.98      1273\n",
            "           6       0.99      0.99      0.99      1396\n",
            "           7       0.98      0.98      0.98      1503\n",
            "           8       0.98      0.97      0.97      1357\n",
            "           9       0.98      0.97      0.97      1420\n",
            "\n",
            "    accuracy                           0.98     14000\n",
            "   macro avg       0.98      0.98      0.98     14000\n",
            "weighted avg       0.98      0.98      0.98     14000\n",
            "\n",
            "Confusion Matrix pada Data Testing (80:20):\n",
            "[[1331    0    3    0    1    0    3    1    3    1]\n",
            " [   0 1591    2    2    1    0    0    2    0    2]\n",
            " [   0    2 1360    2    2    1    1    7    4    1]\n",
            " [   0    0   12 1392    3    8    0    7    7    4]\n",
            " [   1    0    2    0 1272    0    2    2    2   14]\n",
            " [   0    1    1   14    1 1242    9    0    5    0]\n",
            " [   1    0    0    0    4    4 1385    0    2    0]\n",
            " [   1    4   11    0    5    1    0 1472    1    8]\n",
            " [   2    5   10    7    1    5    5    3 1314    5]\n",
            " [   5    7    1    7   12    1    0    7    5 1375]]\n"
          ]
        }
      ],
      "source": [
        "# Evaluasi model SVM dengan kernel RBF pada Data Training (80:20)\n",
        "print(\"Evaluasi Model pada Data Training (80:20):\")\n",
        "print(\"Akurasi pada Data Training (80:20):\", accuracy_train_svm_rbf_80)\n",
        "print(classification_report(y_train_pca_80, y_train_pred_svm_rbf_80))\n",
        "print(\"Confusion Matrix pada Data Training (80:20):\")\n",
        "print(confusion_matrix(y_train_pca_80, y_train_pred_svm_rbf_80))\n",
        "\n",
        "# Evaluasi model SVM dengan kernel RBF pada Data Testing (80:20)\n",
        "print(\"\\nEvaluasi Model pada Data Testing (80:20):\")\n",
        "print(\"Akurasi pada Data Testing (80:20):\", accuracy_test_svm_rbf_80)\n",
        "print(classification_report(y_test_pca_80, y_test_pred_svm_rbf_80))\n",
        "print(\"Confusion Matrix pada Data Testing (80:20):\")\n",
        "print(confusion_matrix(y_test_pca_80, y_test_pred_svm_rbf_80))"
      ]
    },
    {
      "cell_type": "markdown",
      "metadata": {
        "id": "P-f_Md4glAK6"
      },
      "source": [
        "90:10"
      ]
    },
    {
      "cell_type": "code",
      "execution_count": 27,
      "metadata": {
        "colab": {
          "base_uri": "https://localhost:8080/"
        },
        "id": "VIHRV_PulChd",
        "outputId": "15bc9806-d5d1-4149-a740-cb77743d2adc"
      },
      "outputs": [
        {
          "name": "stdout",
          "output_type": "stream",
          "text": [
            "Evaluasi Model pada Data Training (90:10):\n",
            "Akurasi pada Data Training (90:10): 0.9929206349206349\n",
            "              precision    recall  f1-score   support\n",
            "\n",
            "           0       1.00      1.00      1.00      6220\n",
            "           1       0.99      1.00      0.99      7077\n",
            "           2       0.99      0.99      0.99      6316\n",
            "           3       1.00      0.99      0.99      6381\n",
            "           4       0.99      0.99      0.99      6213\n",
            "           5       0.99      0.99      0.99      5655\n",
            "           6       0.99      1.00      1.00      6199\n",
            "           7       0.99      0.99      0.99      6569\n",
            "           8       0.99      0.99      0.99      6132\n",
            "           9       0.99      0.99      0.99      6238\n",
            "\n",
            "    accuracy                           0.99     63000\n",
            "   macro avg       0.99      0.99      0.99     63000\n",
            "weighted avg       0.99      0.99      0.99     63000\n",
            "\n",
            "Confusion Matrix pada Data Training (90:10):\n",
            "[[6203    1    1    1    3    2    4    1    1    3]\n",
            " [   1 7050    8    0    1    1    1   10    1    4]\n",
            " [   3    2 6278    2    7    0    1   15    7    1]\n",
            " [   1    2   10 6317    0   12    0   18   14    7]\n",
            " [   3    5    2    0 6164    0    9    5    1   24]\n",
            " [   4    1    1    6    1 5621   14    2    1    4]\n",
            " [   6    3    1    0    2    6 6180    0    1    0]\n",
            " [   2   16   14    1   11    1    0 6504    2   18]\n",
            " [   3   12    9    8    3    6    2    3 6082    4]\n",
            " [   6    3    1    9   31    7    1   21    4 6155]]\n",
            "\n",
            "Evaluasi Model pada Data Testing (90:10):\n",
            "Akurasi pada Data Testing (90:10): 0.9802857142857143\n",
            "              precision    recall  f1-score   support\n",
            "\n",
            "           0       0.99      1.00      0.99       683\n",
            "           1       0.98      0.99      0.99       800\n",
            "           2       0.96      0.99      0.98       674\n",
            "           3       0.98      0.97      0.97       760\n",
            "           4       0.98      0.98      0.98       611\n",
            "           5       0.98      0.98      0.98       658\n",
            "           6       0.99      0.99      0.99       677\n",
            "           7       0.98      0.98      0.98       724\n",
            "           8       0.98      0.96      0.97       693\n",
            "           9       0.98      0.97      0.97       720\n",
            "\n",
            "    accuracy                           0.98      7000\n",
            "   macro avg       0.98      0.98      0.98      7000\n",
            "weighted avg       0.98      0.98      0.98      7000\n",
            "\n",
            "Confusion Matrix pada Data Testing (90:10):\n",
            "[[681   0   0   0   0   0   0   0   1   1]\n",
            " [  0 795   2   0   0   0   0   2   0   1]\n",
            " [  0   1 668   0   1   0   1   2   1   0]\n",
            " [  0   0  10 735   2   5   0   2   4   2]\n",
            " [  1   0   1   0 601   0   0   1   1   6]\n",
            " [  0   0   0   6   0 644   6   0   2   0]\n",
            " [  1   0   0   0   3   2 669   0   2   0]\n",
            " [  0   3   8   0   3   0   0 706   0   4]\n",
            " [  1   4   4   3   0   3   3   4 668   3]\n",
            " [  3   5   0   5   5   1   0   3   3 695]]\n"
          ]
        }
      ],
      "source": [
        "# Evaluasi model SVM dengan kernel RBF pada Data Training (90:10)\n",
        "print(\"Evaluasi Model pada Data Training (90:10):\")\n",
        "print(\"Akurasi pada Data Training (90:10):\", accuracy_train_svm_rbf_90)\n",
        "print(classification_report(y_train_pca_90, y_train_pred_svm_rbf_90))\n",
        "print(\"Confusion Matrix pada Data Training (90:10):\")\n",
        "print(confusion_matrix(y_train_pca_90, y_train_pred_svm_rbf_90))\n",
        "\n",
        "# Evaluasi model SVM dengan kernel RBF pada Data Testing (90:10)\n",
        "print(\"\\nEvaluasi Model pada Data Testing (90:10):\")\n",
        "print(\"Akurasi pada Data Testing (90:10):\", accuracy_test_svm_rbf_90)\n",
        "print(classification_report(y_test_pca_90, y_test_pred_svm_rbf_90))\n",
        "print(\"Confusion Matrix pada Data Testing (90:10):\")\n",
        "print(confusion_matrix(y_test_pca_90, y_test_pred_svm_rbf_90))\n"
      ]
    },
    {
      "cell_type": "markdown",
      "metadata": {
        "id": "8L8HdQ_Old38"
      },
      "source": [
        "7. Menampilkan citra data testing berserta hasil pelabelannya"
      ]
    },
    {
      "cell_type": "code",
      "execution_count": 37,
      "metadata": {},
      "outputs": [
        {
          "data": {
            "image/png": "[encoded data removed]",
            "text/plain": [
              "<Figure size 720x288 with 2 Axes>"
            ]
          },
          "metadata": {
            "needs_background": "light"
          },
          "output_type": "display_data"
        },
        {
          "ename": "KeyError",
          "evalue": "19608",
          "output_type": "error",
          "traceback": [
            "\u001b[1;31m---------------------------------------------------------------------------\u001b[0m",
            "\u001b[1;31mKeyError\u001b[0m                                  Traceback (most recent call last)",
            "\u001b[1;32mc:\\Users\\ULFI\\anaconda3\\lib\\site-packages\\pandas\\core\\indexes\\base.py\u001b[0m in \u001b[0;36mget_loc\u001b[1;34m(self, key, method, tolerance)\u001b[0m\n\u001b[0;32m   3079\u001b[0m             \u001b[1;32mtry\u001b[0m\u001b[1;33m:\u001b[0m\u001b[1;33m\u001b[0m\u001b[1;33m\u001b[0m\u001b[0m\n\u001b[1;32m-> 3080\u001b[1;33m                 \u001b[1;32mreturn\u001b[0m \u001b[0mself\u001b[0m\u001b[1;33m.\u001b[0m\u001b[0m_engine\u001b[0m\u001b[1;33m.\u001b[0m\u001b[0mget_loc\u001b[0m\u001b[1;33m(\u001b[0m\u001b[0mcasted_key\u001b[0m\u001b[1;33m)\u001b[0m\u001b[1;33m\u001b[0m\u001b[1;33m\u001b[0m\u001b[0m\n\u001b[0m\u001b[0;32m   3081\u001b[0m             \u001b[1;32mexcept\u001b[0m \u001b[0mKeyError\u001b[0m \u001b[1;32mas\u001b[0m \u001b[0merr\u001b[0m\u001b[1;33m:\u001b[0m\u001b[1;33m\u001b[0m\u001b[1;33m\u001b[0m\u001b[0m\n",
            "\u001b[1;32mpandas\\_libs\\index.pyx\u001b[0m in \u001b[0;36mpandas._libs.index.IndexEngine.get_loc\u001b[1;34m()\u001b[0m\n",
            "\u001b[1;32mpandas\\_libs\\index.pyx\u001b[0m in \u001b[0;36mpandas._libs.index.IndexEngine.get_loc\u001b[1;34m()\u001b[0m\n",
            "\u001b[1;32mpandas\\_libs\\hashtable_class_helper.pxi\u001b[0m in \u001b[0;36mpandas._libs.hashtable.Int64HashTable.get_item\u001b[1;34m()\u001b[0m\n",
            "\u001b[1;32mpandas\\_libs\\hashtable_class_helper.pxi\u001b[0m in \u001b[0;36mpandas._libs.hashtable.Int64HashTable.get_item\u001b[1;34m()\u001b[0m\n",
            "\u001b[1;31mKeyError\u001b[0m: 19608",
            "\nThe above exception was the direct cause of the following exception:\n",
            "\u001b[1;31mKeyError\u001b[0m                                  Traceback (most recent call last)",
            "\u001b[1;32m<ipython-input-37-c012cf21211a>\u001b[0m in \u001b[0;36m<module>\u001b[1;34m\u001b[0m\n\u001b[0;32m     23\u001b[0m     \u001b[0mplt\u001b[0m\u001b[1;33m.\u001b[0m\u001b[0msubplot\u001b[0m\u001b[1;33m(\u001b[0m\u001b[1;36m1\u001b[0m\u001b[1;33m,\u001b[0m \u001b[1;36m2\u001b[0m\u001b[1;33m,\u001b[0m \u001b[1;36m1\u001b[0m\u001b[1;33m)\u001b[0m\u001b[1;33m\u001b[0m\u001b[1;33m\u001b[0m\u001b[0m\n\u001b[0;32m     24\u001b[0m     \u001b[0mplt\u001b[0m\u001b[1;33m.\u001b[0m\u001b[0mimshow\u001b[0m\u001b[1;33m(\u001b[0m\u001b[0mimage\u001b[0m\u001b[1;33m,\u001b[0m \u001b[0mcmap\u001b[0m\u001b[1;33m=\u001b[0m\u001b[1;34m'gray'\u001b[0m\u001b[1;33m)\u001b[0m\u001b[1;33m\u001b[0m\u001b[1;33m\u001b[0m\u001b[0m\n\u001b[1;32m---> 25\u001b[1;33m     \u001b[0mplt\u001b[0m\u001b[1;33m.\u001b[0m\u001b[0mtitle\u001b[0m\u001b[1;33m(\u001b[0m\u001b[1;34mf'Label Asli: {y_test_pca_70[idx]}'\u001b[0m\u001b[1;33m,\u001b[0m \u001b[0mfontsize\u001b[0m\u001b[1;33m=\u001b[0m\u001b[1;36m12\u001b[0m\u001b[1;33m)\u001b[0m\u001b[1;33m\u001b[0m\u001b[1;33m\u001b[0m\u001b[0m\n\u001b[0m\u001b[0;32m     26\u001b[0m \u001b[1;33m\u001b[0m\u001b[0m\n\u001b[0;32m     27\u001b[0m     \u001b[1;31m# Subplot 2: Hasil Prediksi\u001b[0m\u001b[1;33m\u001b[0m\u001b[1;33m\u001b[0m\u001b[1;33m\u001b[0m\u001b[0m\n",
            "\u001b[1;32mc:\\Users\\ULFI\\anaconda3\\lib\\site-packages\\pandas\\core\\series.py\u001b[0m in \u001b[0;36m__getitem__\u001b[1;34m(self, key)\u001b[0m\n\u001b[0;32m    851\u001b[0m \u001b[1;33m\u001b[0m\u001b[0m\n\u001b[0;32m    852\u001b[0m         \u001b[1;32melif\u001b[0m \u001b[0mkey_is_scalar\u001b[0m\u001b[1;33m:\u001b[0m\u001b[1;33m\u001b[0m\u001b[1;33m\u001b[0m\u001b[0m\n\u001b[1;32m--> 853\u001b[1;33m             \u001b[1;32mreturn\u001b[0m \u001b[0mself\u001b[0m\u001b[1;33m.\u001b[0m\u001b[0m_get_value\u001b[0m\u001b[1;33m(\u001b[0m\u001b[0mkey\u001b[0m\u001b[1;33m)\u001b[0m\u001b[1;33m\u001b[0m\u001b[1;33m\u001b[0m\u001b[0m\n\u001b[0m\u001b[0;32m    854\u001b[0m \u001b[1;33m\u001b[0m\u001b[0m\n\u001b[0;32m    855\u001b[0m         \u001b[1;32mif\u001b[0m \u001b[0mis_hashable\u001b[0m\u001b[1;33m(\u001b[0m\u001b[0mkey\u001b[0m\u001b[1;33m)\u001b[0m\u001b[1;33m:\u001b[0m\u001b[1;33m\u001b[0m\u001b[1;33m\u001b[0m\u001b[0m\n",
            "\u001b[1;32mc:\\Users\\ULFI\\anaconda3\\lib\\site-packages\\pandas\\core\\series.py\u001b[0m in \u001b[0;36m_get_value\u001b[1;34m(self, label, takeable)\u001b[0m\n\u001b[0;32m    959\u001b[0m \u001b[1;33m\u001b[0m\u001b[0m\n\u001b[0;32m    960\u001b[0m         \u001b[1;31m# Similar to Index.get_value, but we do not fall back to positional\u001b[0m\u001b[1;33m\u001b[0m\u001b[1;33m\u001b[0m\u001b[1;33m\u001b[0m\u001b[0m\n\u001b[1;32m--> 961\u001b[1;33m         \u001b[0mloc\u001b[0m \u001b[1;33m=\u001b[0m \u001b[0mself\u001b[0m\u001b[1;33m.\u001b[0m\u001b[0mindex\u001b[0m\u001b[1;33m.\u001b[0m\u001b[0mget_loc\u001b[0m\u001b[1;33m(\u001b[0m\u001b[0mlabel\u001b[0m\u001b[1;33m)\u001b[0m\u001b[1;33m\u001b[0m\u001b[1;33m\u001b[0m\u001b[0m\n\u001b[0m\u001b[0;32m    962\u001b[0m         \u001b[1;32mreturn\u001b[0m \u001b[0mself\u001b[0m\u001b[1;33m.\u001b[0m\u001b[0mindex\u001b[0m\u001b[1;33m.\u001b[0m\u001b[0m_get_values_for_loc\u001b[0m\u001b[1;33m(\u001b[0m\u001b[0mself\u001b[0m\u001b[1;33m,\u001b[0m \u001b[0mloc\u001b[0m\u001b[1;33m,\u001b[0m \u001b[0mlabel\u001b[0m\u001b[1;33m)\u001b[0m\u001b[1;33m\u001b[0m\u001b[1;33m\u001b[0m\u001b[0m\n\u001b[0;32m    963\u001b[0m \u001b[1;33m\u001b[0m\u001b[0m\n",
            "\u001b[1;32mc:\\Users\\ULFI\\anaconda3\\lib\\site-packages\\pandas\\core\\indexes\\base.py\u001b[0m in \u001b[0;36mget_loc\u001b[1;34m(self, key, method, tolerance)\u001b[0m\n\u001b[0;32m   3080\u001b[0m                 \u001b[1;32mreturn\u001b[0m \u001b[0mself\u001b[0m\u001b[1;33m.\u001b[0m\u001b[0m_engine\u001b[0m\u001b[1;33m.\u001b[0m\u001b[0mget_loc\u001b[0m\u001b[1;33m(\u001b[0m\u001b[0mcasted_key\u001b[0m\u001b[1;33m)\u001b[0m\u001b[1;33m\u001b[0m\u001b[1;33m\u001b[0m\u001b[0m\n\u001b[0;32m   3081\u001b[0m             \u001b[1;32mexcept\u001b[0m \u001b[0mKeyError\u001b[0m \u001b[1;32mas\u001b[0m \u001b[0merr\u001b[0m\u001b[1;33m:\u001b[0m\u001b[1;33m\u001b[0m\u001b[1;33m\u001b[0m\u001b[0m\n\u001b[1;32m-> 3082\u001b[1;33m                 \u001b[1;32mraise\u001b[0m \u001b[0mKeyError\u001b[0m\u001b[1;33m(\u001b[0m\u001b[0mkey\u001b[0m\u001b[1;33m)\u001b[0m \u001b[1;32mfrom\u001b[0m \u001b[0merr\u001b[0m\u001b[1;33m\u001b[0m\u001b[1;33m\u001b[0m\u001b[0m\n\u001b[0m\u001b[0;32m   3083\u001b[0m \u001b[1;33m\u001b[0m\u001b[0m\n\u001b[0;32m   3084\u001b[0m         \u001b[1;32mif\u001b[0m \u001b[0mtolerance\u001b[0m \u001b[1;32mis\u001b[0m \u001b[1;32mnot\u001b[0m \u001b[1;32mNone\u001b[0m\u001b[1;33m:\u001b[0m\u001b[1;33m\u001b[0m\u001b[1;33m\u001b[0m\u001b[0m\n",
            "\u001b[1;31mKeyError\u001b[0m: 19608"
          ]
        },
        {
          "data": {
            "image/png": "[encoded data removed]",
            "text/plain": [
              "<Figure size 720x288 with 1 Axes>"
            ]
          },
          "metadata": {
            "needs_background": "light"
          },
          "output_type": "display_data"
        }
      ],
      "source": [
        "import matplotlib.pyplot as plt\n",
        "import random\n",
        "import numpy as np\n",
        "\n",
        "# Pilih beberapa contoh secara acak\n",
        "num_samples = 5\n",
        "sample_indices = random.sample(range(len(X_test_pca_70)), num_samples)\n",
        "\n",
        "# Loop melalui contoh yang dipilih\n",
        "for idx in sample_indices:\n",
        "    # Periksa bentuk citra dan ubah ukuran jika diperlukan\n",
        "    image = X_test_pca_70[idx]\n",
        "    if image.shape != (28, 28):\n",
        "        # Jika ukuran tidak sesuai, ganti dengan citra nol (citra hitam)\n",
        "        image = np.zeros((28, 28))  # Anda bisa mengganti ini dengan citra lain jika ada\n",
        "        \n",
        "    predicted_label = y_test_pred_svm_rbf_70[idx]\n",
        "    \n",
        "    # Buat subplot dengan 2 kolom dan 1 baris\n",
        "    plt.figure(figsize=(10, 4))\n",
        "    \n",
        "    # Subplot 1: Citra Asli\n",
        "    plt.subplot(1, 2, 1)\n",
        "    plt.imshow(image, cmap='gray')\n",
        "    plt.title(f'Label Asli: {y_test_pca_70[idx]}', fontsize=12)\n",
        "    \n",
        "    # Subplot 2: Hasil Prediksi\n",
        "    plt.subplot(1, 2, 2)\n",
        "    plt.imshow(image, cmap='gray')\n",
        "    plt.title(f'Prediksi: {predicted_label}', fontsize=12)\n",
        "    \n",
        "    plt.tight_layout()\n",
        "    plt.show()"
      ]
    },
    {
      "cell_type": "code",
      "execution_count": 30,
      "metadata": {},
      "outputs": [
        {
          "ename": "AttributeError",
          "evalue": "'numpy.ndarray' object has no attribute 'iloc'",
          "output_type": "error",
          "traceback": [
            "\u001b[1;31m---------------------------------------------------------------------------\u001b[0m",
            "\u001b[1;31mAttributeError\u001b[0m                            Traceback (most recent call last)",
            "\u001b[1;32m<ipython-input-30-76f1caacb0e6>\u001b[0m in \u001b[0;36m<module>\u001b[1;34m\u001b[0m\n\u001b[0;32m      8\u001b[0m \u001b[1;32mfor\u001b[0m \u001b[0midx\u001b[0m \u001b[1;32min\u001b[0m \u001b[0msample_indices\u001b[0m\u001b[1;33m:\u001b[0m\u001b[1;33m\u001b[0m\u001b[1;33m\u001b[0m\u001b[0m\n\u001b[0;32m      9\u001b[0m     \u001b[1;31m# Citra asli\u001b[0m\u001b[1;33m\u001b[0m\u001b[1;33m\u001b[0m\u001b[1;33m\u001b[0m\u001b[0m\n\u001b[1;32m---> 10\u001b[1;33m     \u001b[0mimage\u001b[0m \u001b[1;33m=\u001b[0m \u001b[0mX_test_pca_70\u001b[0m\u001b[1;33m.\u001b[0m\u001b[0miloc\u001b[0m\u001b[1;33m[\u001b[0m\u001b[0midx\u001b[0m\u001b[1;33m]\u001b[0m\u001b[1;33m.\u001b[0m\u001b[0mvalues\u001b[0m\u001b[1;33m.\u001b[0m\u001b[0mreshape\u001b[0m\u001b[1;33m(\u001b[0m\u001b[1;36m28\u001b[0m\u001b[1;33m,\u001b[0m \u001b[1;36m28\u001b[0m\u001b[1;33m)\u001b[0m  \u001b[1;31m# Ubah ukuran citra sesuai dengan data aslinya\u001b[0m\u001b[1;33m\u001b[0m\u001b[1;33m\u001b[0m\u001b[0m\n\u001b[0m\u001b[0;32m     11\u001b[0m     \u001b[0mplt\u001b[0m\u001b[1;33m.\u001b[0m\u001b[0mfigure\u001b[0m\u001b[1;33m(\u001b[0m\u001b[0mfigsize\u001b[0m\u001b[1;33m=\u001b[0m\u001b[1;33m(\u001b[0m\u001b[1;36m2\u001b[0m\u001b[1;33m,\u001b[0m \u001b[1;36m2\u001b[0m\u001b[1;33m)\u001b[0m\u001b[1;33m)\u001b[0m\u001b[1;33m\u001b[0m\u001b[1;33m\u001b[0m\u001b[0m\n\u001b[0;32m     12\u001b[0m     \u001b[0mplt\u001b[0m\u001b[1;33m.\u001b[0m\u001b[0mimshow\u001b[0m\u001b[1;33m(\u001b[0m\u001b[0mimage\u001b[0m\u001b[1;33m,\u001b[0m \u001b[0mcmap\u001b[0m\u001b[1;33m=\u001b[0m\u001b[1;34m'gray'\u001b[0m\u001b[1;33m)\u001b[0m\u001b[1;33m\u001b[0m\u001b[1;33m\u001b[0m\u001b[0m\n",
            "\u001b[1;31mAttributeError\u001b[0m: 'numpy.ndarray' object has no attribute 'iloc'"
          ]
        }
      ],
      "source": [
        "import matplotlib.pyplot as plt\n",
        "import random\n",
        "\n",
        "# Pilih beberapa contoh secara acak\n",
        "sample_indices = random.sample(range(len(X_test_pca_70)), 5)\n",
        "\n",
        "# Loop melalui contoh yang dipilih\n",
        "for idx in sample_indices:\n",
        "    # Citra asli\n",
        "    image = X_test_pca_70.iloc[idx].values.reshape(28, 28)  # Ubah ukuran citra sesuai dengan data aslinya\n",
        "    plt.figure(figsize=(2, 2))\n",
        "    plt.imshow(image, cmap='gray')\n",
        "    plt.title(f'Label Asli: {y_test_pca_70[idx]}, Prediksi: {y_test_pred_svm_rbf_70[idx]}')\n",
        "    plt.show()"
      ]
    },
    {
      "cell_type": "code",
      "execution_count": 28,
      "metadata": {
        "colab": {
          "base_uri": "https://localhost:8080/",
          "height": 256
        },
        "id": "joyJTUTdlec2",
        "outputId": "e521bee0-2f30-4d07-b2af-e583b57b6421"
      },
      "outputs": [
        {
          "ename": "ValueError",
          "evalue": "cannot reshape array of size 85 into shape (9)",
          "output_type": "error",
          "traceback": [
            "\u001b[1;31m---------------------------------------------------------------------------\u001b[0m",
            "\u001b[1;31mValueError\u001b[0m                                Traceback (most recent call last)",
            "\u001b[1;32m<ipython-input-28-e8e25bd43319>\u001b[0m in \u001b[0;36m<module>\u001b[1;34m\u001b[0m\n\u001b[0;32m     30\u001b[0m \u001b[1;33m\u001b[0m\u001b[0m\n\u001b[0;32m     31\u001b[0m \u001b[1;31m# Tampilkan citra dan hasil labelnya\u001b[0m\u001b[1;33m\u001b[0m\u001b[1;33m\u001b[0m\u001b[1;33m\u001b[0m\u001b[0m\n\u001b[1;32m---> 32\u001b[1;33m \u001b[0mshow_images_with_labels\u001b[0m\u001b[1;33m(\u001b[0m\u001b[0msample_images\u001b[0m\u001b[1;33m,\u001b[0m \u001b[0msample_labels\u001b[0m\u001b[1;33m,\u001b[0m \u001b[0mpredicted_labels\u001b[0m\u001b[1;33m)\u001b[0m\u001b[1;33m\u001b[0m\u001b[1;33m\u001b[0m\u001b[0m\n\u001b[0m",
            "\u001b[1;32m<ipython-input-28-e8e25bd43319>\u001b[0m in \u001b[0;36mshow_images_with_labels\u001b[1;34m(images, true_labels, predicted_labels)\u001b[0m\n\u001b[0;32m     20\u001b[0m     \u001b[1;32mfor\u001b[0m \u001b[0mi\u001b[0m \u001b[1;32min\u001b[0m \u001b[0mrange\u001b[0m\u001b[1;33m(\u001b[0m\u001b[0mnum_samples\u001b[0m\u001b[1;33m)\u001b[0m\u001b[1;33m:\u001b[0m\u001b[1;33m\u001b[0m\u001b[1;33m\u001b[0m\u001b[0m\n\u001b[0;32m     21\u001b[0m         \u001b[0mplt\u001b[0m\u001b[1;33m.\u001b[0m\u001b[0msubplot\u001b[0m\u001b[1;33m(\u001b[0m\u001b[0mnum_rows\u001b[0m\u001b[1;33m,\u001b[0m \u001b[0mnum_cols\u001b[0m\u001b[1;33m,\u001b[0m \u001b[0mi\u001b[0m \u001b[1;33m+\u001b[0m \u001b[1;36m1\u001b[0m\u001b[1;33m)\u001b[0m\u001b[1;33m\u001b[0m\u001b[1;33m\u001b[0m\u001b[0m\n\u001b[1;32m---> 22\u001b[1;33m         \u001b[0mplt\u001b[0m\u001b[1;33m.\u001b[0m\u001b[0mimshow\u001b[0m\u001b[1;33m(\u001b[0m\u001b[0mimages\u001b[0m\u001b[1;33m[\u001b[0m\u001b[0mi\u001b[0m\u001b[1;33m]\u001b[0m\u001b[1;33m.\u001b[0m\u001b[0mreshape\u001b[0m\u001b[1;33m(\u001b[0m\u001b[1;33m-\u001b[0m\u001b[1;36m1\u001b[0m\u001b[1;33m,\u001b[0m \u001b[0mint\u001b[0m\u001b[1;33m(\u001b[0m\u001b[0mnp\u001b[0m\u001b[1;33m.\u001b[0m\u001b[0msqrt\u001b[0m\u001b[1;33m(\u001b[0m\u001b[0mimages\u001b[0m\u001b[1;33m.\u001b[0m\u001b[0mshape\u001b[0m\u001b[1;33m[\u001b[0m\u001b[1;36m1\u001b[0m\u001b[1;33m]\u001b[0m\u001b[1;33m)\u001b[0m\u001b[1;33m)\u001b[0m\u001b[1;33m)\u001b[0m\u001b[1;33m,\u001b[0m \u001b[0mcmap\u001b[0m\u001b[1;33m=\u001b[0m\u001b[1;34m'gray'\u001b[0m\u001b[1;33m)\u001b[0m\u001b[1;33m\u001b[0m\u001b[1;33m\u001b[0m\u001b[0m\n\u001b[0m\u001b[0;32m     23\u001b[0m         \u001b[0mtrue_label_str\u001b[0m \u001b[1;33m=\u001b[0m \u001b[0mstr\u001b[0m\u001b[1;33m(\u001b[0m\u001b[0mtrue_labels\u001b[0m\u001b[1;33m[\u001b[0m\u001b[0mi\u001b[0m\u001b[1;33m]\u001b[0m\u001b[1;33m)\u001b[0m \u001b[1;32mif\u001b[0m \u001b[0misinstance\u001b[0m\u001b[1;33m(\u001b[0m\u001b[0mtrue_labels\u001b[0m\u001b[1;33m[\u001b[0m\u001b[0mi\u001b[0m\u001b[1;33m]\u001b[0m\u001b[1;33m,\u001b[0m \u001b[1;33m(\u001b[0m\u001b[0mint\u001b[0m\u001b[1;33m,\u001b[0m \u001b[0mstr\u001b[0m\u001b[1;33m)\u001b[0m\u001b[1;33m)\u001b[0m \u001b[1;32melse\u001b[0m \u001b[1;34m\"N/A\"\u001b[0m\u001b[1;33m\u001b[0m\u001b[1;33m\u001b[0m\u001b[0m\n\u001b[0;32m     24\u001b[0m         \u001b[0mpredicted_label_str\u001b[0m \u001b[1;33m=\u001b[0m \u001b[0mstr\u001b[0m\u001b[1;33m(\u001b[0m\u001b[0mpredicted_labels\u001b[0m\u001b[1;33m[\u001b[0m\u001b[0mi\u001b[0m\u001b[1;33m]\u001b[0m\u001b[1;33m)\u001b[0m \u001b[1;32mif\u001b[0m \u001b[0misinstance\u001b[0m\u001b[1;33m(\u001b[0m\u001b[0mpredicted_labels\u001b[0m\u001b[1;33m[\u001b[0m\u001b[0mi\u001b[0m\u001b[1;33m]\u001b[0m\u001b[1;33m,\u001b[0m \u001b[1;33m(\u001b[0m\u001b[0mint\u001b[0m\u001b[1;33m,\u001b[0m \u001b[0mstr\u001b[0m\u001b[1;33m)\u001b[0m\u001b[1;33m)\u001b[0m \u001b[1;32melse\u001b[0m \u001b[1;34m\"N/A\"\u001b[0m\u001b[1;33m\u001b[0m\u001b[1;33m\u001b[0m\u001b[0m\n",
            "\u001b[1;31mValueError\u001b[0m: cannot reshape array of size 85 into shape (9)"
          ]
        },
        {
          "data": {
            "image/png": "[encoded data removed]",
            "text/plain": [
              "<Figure size 1080x432 with 1 Axes>"
            ]
          },
          "metadata": {
            "needs_background": "light"
          },
          "output_type": "display_data"
        }
      ],
      "source": [
        "import matplotlib.pyplot as plt\n",
        "\n",
        "# Ambil contoh citra dari data testing (misalnya, 10 citra)\n",
        "sample_indices = [0, 1, 2, 3, 5, 8, 9]  # Ganti dengan indeks citra yang ingin ditampilkan\n",
        "sample_images = X_test_pca_70[sample_indices]\n",
        "sample_labels = y_test_pca_70.iloc[sample_indices]\n",
        "predicted_labels = y_test_pred_svm_rbf_70[sample_indices]  # Hasil prediksi label dari model\n",
        "\n",
        "# Gantilah 'ukuran_citra' dengan ukuran citra yang sesungguhnya (misalnya, (28, 28) untuk citra 28x28 pixel)\n",
        "ukuran_citra = (28, 28)  # Gantilah dengan ukuran yang sesuai dengan data Anda\n",
        "\n",
        "# Fungsi untuk menampilkan citra dan hasil labelnya\n",
        "def show_images_with_labels(images, true_labels, predicted_labels):\n",
        "    num_samples = len(images)\n",
        "    num_cols = 5\n",
        "    num_rows = (num_samples + num_cols - 1) // num_cols\n",
        "\n",
        "    plt.figure(figsize=(15, 3 * num_rows))\n",
        "\n",
        "    for i in range(num_samples):\n",
        "        plt.subplot(num_rows, num_cols, i + 1)\n",
        "        plt.imshow(images[i].reshape(-1, int(np.sqrt(images.shape[1]))), cmap='gray')\n",
        "        true_label_str = str(true_labels[i]) if isinstance(true_labels[i], (int, str)) else \"N/A\"\n",
        "        predicted_label_str = str(predicted_labels[i]) if isinstance(predicted_labels[i], (int, str)) else \"N/A\"\n",
        "        plt.title(f'Asli: {true_label_str}\\nPrediksi: {predicted_label_str}')\n",
        "        plt.axis('off')\n",
        "\n",
        "    plt.tight_layout()\n",
        "    plt.show()\n",
        "\n",
        "# Tampilkan citra dan hasil labelnya\n",
        "show_images_with_labels(sample_images, sample_labels, predicted_labels)"
      ]
    }
  ],
  "metadata": {
    "colab": {
      "provenance": []
    },
    "kernelspec": {
      "display_name": "Python 3",
      "name": "python3"
    },
    "language_info": {
      "codemirror_mode": {
        "name": "ipython",
        "version": 3
      },
      "file_extension": ".py",
      "mimetype": "text/x-python",
      "name": "python",
      "nbconvert_exporter": "python",
      "pygments_lexer": "ipython3",
      "version": "3.8.8"
    }
  },
  "nbformat": 4,
  "nbformat_minor": 0
}
