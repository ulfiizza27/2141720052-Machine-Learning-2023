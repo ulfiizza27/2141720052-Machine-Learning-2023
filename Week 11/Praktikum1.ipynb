{
  "nbformat": 4,
  "nbformat_minor": 0,
  "metadata": {
    "colab": {
      "provenance": [],
      "gpuType": "T4",
      "authorship_tag": "ABX9TyN8sa+DkYJVYnV0N+4/NtZ6",
      "include_colab_link": true
    },
    "kernelspec": {
      "name": "python3",
      "display_name": "Python 3"
    },
    "language_info": {
      "name": "python"
    },
    "accelerator": "GPU"
  },
  "cells": [
    {
      "cell_type": "markdown",
      "metadata": {
        "id": "view-in-github",
        "colab_type": "text"
      },
      "source": [
        "<a href=\"https://colab.research.google.com/github/ulfiizza27/2141720052-Machine-Learning-2023/blob/main/Week%2011/Praktikum1.ipynb\" target=\"_parent\"><img src=\"https://colab.research.google.com/assets/colab-badge.svg\" alt=\"Open In Colab\"/></a>"
      ]
    },
    {
      "cell_type": "markdown",
      "source": [
        "# **Job Sheet 11: Convolutional Neural Network (CNN)**\n",
        "\n",
        "## **Praktikum 1**\n",
        "Klasifikasi 🐱 dan 🐶\n",
        "\n",
        "### **Deskripsi**\n",
        "\n",
        "Pada praktikum ini kita akan membuat model klasifikasi CNN sederhana pada kasus citra kucing dan anjing.\n",
        "\n",
        "### **Dataset**\n",
        "Dataset merupakan data citra anjing dan kucing yang telah dibagi menjadi data training dan data testing. Dikarenakan data cukup besar, pastikan koneksi Anda sebelum mengunduh dataset.\n"
      ],
      "metadata": {
        "id": "86GKlJe_CyUQ"
      }
    },
    {
      "cell_type": "code",
      "execution_count": 2,
      "metadata": {
        "id": "Y-gf5X3ICsI2",
        "colab": {
          "base_uri": "https://localhost:8080/"
        },
        "outputId": "326d015e-d578-4f40-f336-f08e7bb99f5f"
      },
      "outputs": [
        {
          "output_type": "stream",
          "name": "stdout",
          "text": [
            "Drive already mounted at /content/drive; to attempt to forcibly remount, call drive.mount(\"/content/drive\", force_remount=True).\n"
          ]
        }
      ],
      "source": [
        "from google.colab import drive\n",
        "\n",
        "drive.mount('/content/drive')"
      ]
    },
    {
      "cell_type": "markdown",
      "source": [
        "### **Langkah 1 - Import Library**"
      ],
      "metadata": {
        "id": "qduPYJPQJs9J"
      }
    },
    {
      "cell_type": "code",
      "source": [
        "import tensorflow as tf\n",
        "from keras.preprocessing.image import ImageDataGenerator"
      ],
      "metadata": {
        "id": "wYyVqR0BIrOi"
      },
      "execution_count": 3,
      "outputs": []
    },
    {
      "cell_type": "markdown",
      "source": [
        "### **Langkah 2 - Pra Pengolahan Data**\n",
        "\n",
        "Pada tahap ini kita akan sedikit melakukan manipulasi pada citra yang digunakan. Manipulasi yang dilakukan diantaranya adalah normalisasi nilai piksel, koreksi kemiringan, pembesaran (zoom), dan flip.\n",
        "\n",
        "##### **Langkah 2.1. Pra Pengolahan Data Training**"
      ],
      "metadata": {
        "id": "as8Nw8RiJyH8"
      }
    },
    {
      "cell_type": "code",
      "source": [
        "train_datagen = ImageDataGenerator(rescale = 1./255,\n",
        "                                   shear_range = 0.2,\n",
        "                                   zoom_range = 0.2,\n",
        "                                   horizontal_flip = True)\n",
        "training_set = train_datagen.flow_from_directory('/content/drive/MyDrive/ML/dataset/dataset/training_set',\n",
        "                                                 target_size = (64, 64),\n",
        "                                                 batch_size = 32,\n",
        "                                                 class_mode = 'binary')"
      ],
      "metadata": {
        "colab": {
          "base_uri": "https://localhost:8080/"
        },
        "id": "oKkadSWgJ0zt",
        "outputId": "b2cb7b60-ac77-4c9f-9da9-7ce9113ae705"
      },
      "execution_count": 4,
      "outputs": [
        {
          "output_type": "stream",
          "name": "stdout",
          "text": [
            "Found 8009 images belonging to 2 classes.\n"
          ]
        }
      ]
    },
    {
      "cell_type": "markdown",
      "source": [
        "##### **Langkah 2.2. Pra Pengolahan Data Testing**"
      ],
      "metadata": {
        "id": "oLg4Hrw6KGGo"
      }
    },
    {
      "cell_type": "code",
      "source": [
        "test_datagen = ImageDataGenerator(rescale = 1./255)\n",
        "test_set = test_datagen.flow_from_directory('/content/drive/MyDrive/ML/dataset/dataset/test_set',\n",
        "                                            target_size = (64, 64),\n",
        "                                            batch_size = 32,\n",
        "                                            class_mode = 'binary')"
      ],
      "metadata": {
        "colab": {
          "base_uri": "https://localhost:8080/"
        },
        "id": "D1087AIDKK3V",
        "outputId": "55ac37bf-dd5c-424b-f505-db3b9e9d7c5c"
      },
      "execution_count": 5,
      "outputs": [
        {
          "output_type": "stream",
          "name": "stdout",
          "text": [
            "Found 2000 images belonging to 2 classes.\n"
          ]
        }
      ]
    },
    {
      "cell_type": "markdown",
      "source": [
        "### **Langkah 3 - Pembuatan Model CNN**\n",
        "\n",
        "##### **Langkah 3.1.  - Inisiasi Model CNN**"
      ],
      "metadata": {
        "id": "sm-A-1qMKQXF"
      }
    },
    {
      "cell_type": "code",
      "source": [
        "cnn = tf.keras.models.Sequential()"
      ],
      "metadata": {
        "id": "luTDuTbEKSSt"
      },
      "execution_count": 6,
      "outputs": []
    },
    {
      "cell_type": "markdown",
      "source": [
        "##### **Langkah 3.2. - Pembuatan Layer Konvolusi 1**"
      ],
      "metadata": {
        "id": "jY0eoP9rKwQK"
      }
    },
    {
      "cell_type": "code",
      "source": [
        "cnn.add(tf.keras.layers.Conv2D(filters=32, kernel_size=3, activation='relu', input_shape=[64, 64, 3]))"
      ],
      "metadata": {
        "id": "l7tVej-FMd0H"
      },
      "execution_count": 7,
      "outputs": []
    },
    {
      "cell_type": "markdown",
      "source": [
        "##### **Langkah 3.3 - Pembuatan Layer Pooling 1**"
      ],
      "metadata": {
        "id": "A4VbrwP3K4oh"
      }
    },
    {
      "cell_type": "code",
      "source": [
        "cnn.add(tf.keras.layers.MaxPool2D(pool_size=2, strides=2))"
      ],
      "metadata": {
        "id": "Ziw8xO7IMetE"
      },
      "execution_count": 8,
      "outputs": []
    },
    {
      "cell_type": "markdown",
      "source": [
        "##### **Langkah 3.4 - Pembuatan Layer Konvolusi 2 dan Pooling 2**"
      ],
      "metadata": {
        "id": "RnbUT7b7LAVo"
      }
    },
    {
      "cell_type": "code",
      "source": [
        "cnn.add(tf.keras.layers.Conv2D(filters=32, kernel_size=3, activation='relu'))\n",
        "cnn.add(tf.keras.layers.MaxPool2D(pool_size=2, strides=2))"
      ],
      "metadata": {
        "id": "HLfIFJlTMilz"
      },
      "execution_count": 9,
      "outputs": []
    },
    {
      "cell_type": "markdown",
      "source": [
        "##### **Langkah 3.5 - Flattening**"
      ],
      "metadata": {
        "id": "hu5CxaeBLhDk"
      }
    },
    {
      "cell_type": "code",
      "source": [
        "cnn.add(tf.keras.layers.Flatten())"
      ],
      "metadata": {
        "id": "pNGb2IIWMjaW"
      },
      "execution_count": 10,
      "outputs": []
    },
    {
      "cell_type": "markdown",
      "source": [
        "##### **Langkah 3.6 - Fully Connected Layer 1 (Input)**"
      ],
      "metadata": {
        "id": "tzZWKdT1LcHH"
      }
    },
    {
      "cell_type": "code",
      "source": [
        "cnn.add(tf.keras.layers.Dense(units=128, activation='relu'))"
      ],
      "metadata": {
        "id": "p2XFI0L1MkDg"
      },
      "execution_count": 11,
      "outputs": []
    },
    {
      "cell_type": "markdown",
      "source": [
        "##### **Langkah 3.7 - Fully Connected Layer 2 (Output)**"
      ],
      "metadata": {
        "id": "alhI9VhiLoYq"
      }
    },
    {
      "cell_type": "code",
      "source": [
        "cnn.add(tf.keras.layers.Dense(units=1, activation='sigmoid'))"
      ],
      "metadata": {
        "id": "RcMeK70jMk5O"
      },
      "execution_count": 12,
      "outputs": []
    },
    {
      "cell_type": "markdown",
      "source": [
        "##### **Langkah 3.8 - Compile Model CNN**"
      ],
      "metadata": {
        "id": "P-o5bGY4Lria"
      }
    },
    {
      "cell_type": "code",
      "source": [
        "cnn.compile(optimizer = 'adam', loss = 'binary_crossentropy', metrics = ['accuracy'])"
      ],
      "metadata": {
        "id": "Uf3RBa-HMmHS"
      },
      "execution_count": 13,
      "outputs": []
    },
    {
      "cell_type": "markdown",
      "source": [
        "### **Langkah 4 - Fit CNN**"
      ],
      "metadata": {
        "id": "NRPsOTt7KU0A"
      }
    },
    {
      "cell_type": "code",
      "source": [
        "cnn.fit(x = training_set, validation_data = test_set, epochs = 25)"
      ],
      "metadata": {
        "colab": {
          "base_uri": "https://localhost:8080/"
        },
        "id": "ZXlPBL0BKV0E",
        "outputId": "ab9ecb69-2baa-464f-d6d6-167494ae2442"
      },
      "execution_count": 14,
      "outputs": [
        {
          "output_type": "stream",
          "name": "stdout",
          "text": [
            "Epoch 1/25\n",
            "251/251 [==============================] - 43s 142ms/step - loss: 0.6774 - accuracy: 0.5681 - val_loss: 0.6210 - val_accuracy: 0.6650\n",
            "Epoch 2/25\n",
            "251/251 [==============================] - 36s 143ms/step - loss: 0.6179 - accuracy: 0.6600 - val_loss: 0.6000 - val_accuracy: 0.6735\n",
            "Epoch 3/25\n",
            "251/251 [==============================] - 36s 144ms/step - loss: 0.5717 - accuracy: 0.7011 - val_loss: 0.5453 - val_accuracy: 0.7300\n",
            "Epoch 4/25\n",
            "251/251 [==============================] - 36s 143ms/step - loss: 0.5332 - accuracy: 0.7328 - val_loss: 0.5787 - val_accuracy: 0.7035\n",
            "Epoch 5/25\n",
            "251/251 [==============================] - 36s 144ms/step - loss: 0.5154 - accuracy: 0.7473 - val_loss: 0.5422 - val_accuracy: 0.7360\n",
            "Epoch 6/25\n",
            "251/251 [==============================] - 36s 142ms/step - loss: 0.4960 - accuracy: 0.7575 - val_loss: 0.5057 - val_accuracy: 0.7645\n",
            "Epoch 7/25\n",
            "251/251 [==============================] - 36s 144ms/step - loss: 0.4794 - accuracy: 0.7664 - val_loss: 0.4842 - val_accuracy: 0.7795\n",
            "Epoch 8/25\n",
            "251/251 [==============================] - 35s 141ms/step - loss: 0.4655 - accuracy: 0.7740 - val_loss: 0.4628 - val_accuracy: 0.7800\n",
            "Epoch 9/25\n",
            "251/251 [==============================] - 37s 146ms/step - loss: 0.4418 - accuracy: 0.7952 - val_loss: 0.5537 - val_accuracy: 0.7535\n",
            "Epoch 10/25\n",
            "251/251 [==============================] - 36s 143ms/step - loss: 0.4357 - accuracy: 0.8015 - val_loss: 0.4510 - val_accuracy: 0.7925\n",
            "Epoch 11/25\n",
            "251/251 [==============================] - 36s 142ms/step - loss: 0.4208 - accuracy: 0.8055 - val_loss: 0.4520 - val_accuracy: 0.7970\n",
            "Epoch 12/25\n",
            "251/251 [==============================] - 35s 141ms/step - loss: 0.4150 - accuracy: 0.8075 - val_loss: 0.4506 - val_accuracy: 0.8010\n",
            "Epoch 13/25\n",
            "251/251 [==============================] - 36s 142ms/step - loss: 0.3946 - accuracy: 0.8244 - val_loss: 0.4719 - val_accuracy: 0.7885\n",
            "Epoch 14/25\n",
            "251/251 [==============================] - 36s 144ms/step - loss: 0.3820 - accuracy: 0.8247 - val_loss: 0.5139 - val_accuracy: 0.7825\n",
            "Epoch 15/25\n",
            "251/251 [==============================] - 37s 147ms/step - loss: 0.3669 - accuracy: 0.8364 - val_loss: 0.4689 - val_accuracy: 0.8025\n",
            "Epoch 16/25\n",
            "251/251 [==============================] - 41s 163ms/step - loss: 0.3600 - accuracy: 0.8412 - val_loss: 0.4827 - val_accuracy: 0.8000\n",
            "Epoch 17/25\n",
            "251/251 [==============================] - 36s 142ms/step - loss: 0.3361 - accuracy: 0.8514 - val_loss: 0.4680 - val_accuracy: 0.8105\n",
            "Epoch 18/25\n",
            "251/251 [==============================] - 36s 144ms/step - loss: 0.3393 - accuracy: 0.8520 - val_loss: 0.5087 - val_accuracy: 0.8000\n",
            "Epoch 19/25\n",
            "251/251 [==============================] - 36s 143ms/step - loss: 0.3224 - accuracy: 0.8632 - val_loss: 0.4699 - val_accuracy: 0.8105\n",
            "Epoch 20/25\n",
            "251/251 [==============================] - 36s 144ms/step - loss: 0.3114 - accuracy: 0.8619 - val_loss: 0.5362 - val_accuracy: 0.7750\n",
            "Epoch 21/25\n",
            "251/251 [==============================] - 36s 143ms/step - loss: 0.3054 - accuracy: 0.8634 - val_loss: 0.4759 - val_accuracy: 0.8115\n",
            "Epoch 22/25\n",
            "251/251 [==============================] - 36s 143ms/step - loss: 0.2846 - accuracy: 0.8763 - val_loss: 0.5000 - val_accuracy: 0.8100\n",
            "Epoch 23/25\n",
            "251/251 [==============================] - 36s 142ms/step - loss: 0.2832 - accuracy: 0.8781 - val_loss: 0.5074 - val_accuracy: 0.8050\n",
            "Epoch 24/25\n",
            "251/251 [==============================] - 36s 144ms/step - loss: 0.2710 - accuracy: 0.8850 - val_loss: 0.5260 - val_accuracy: 0.7950\n",
            "Epoch 25/25\n",
            "251/251 [==============================] - 36s 142ms/step - loss: 0.2526 - accuracy: 0.8954 - val_loss: 0.5268 - val_accuracy: 0.8010\n"
          ]
        },
        {
          "output_type": "execute_result",
          "data": {
            "text/plain": [
              "<keras.src.callbacks.History at 0x7f65127526b0>"
            ]
          },
          "metadata": {},
          "execution_count": 14
        }
      ]
    },
    {
      "cell_type": "markdown",
      "source": [
        "### **Langkah 5 - Prediksi dengan 1 Citra**\n",
        "\n",
        "Pada langkah ini, kita akan mencoba melakukan prediksi pada 1 citra anjing dan kucing."
      ],
      "metadata": {
        "id": "xo5Y4w4QKZLS"
      }
    },
    {
      "cell_type": "code",
      "source": [
        "import numpy as np\n",
        "from keras.preprocessing import image\n",
        "\n",
        "# Load and preprocess the test image\n",
        "test_image = image.load_img('/content/drive/MyDrive/ML/dataset/dataset/single_prediction/cat_or_dog_1.jpg', target_size=(64, 64))\n",
        "test_image = image.img_to_array(test_image)\n",
        "test_image = np.expand_dims(test_image, axis=0)\n",
        "\n",
        "# Make the prediction\n",
        "result = cnn.predict(test_image)\n",
        "\n",
        "# Get the class indices from the training set\n",
        "class_indices = training_set.class_indices\n",
        "\n",
        "if result[0][0] == 1:\n",
        "  prediction = 'dog'\n",
        "else:\n",
        "  prediction = 'cat'\n",
        "\n",
        "# Print the prediction\n",
        "print(\"Hasil prediksi: \" + prediction)"
      ],
      "metadata": {
        "colab": {
          "base_uri": "https://localhost:8080/"
        },
        "id": "x_49fINMKbc-",
        "outputId": "c8ed7a59-5b90-4528-9b82-9bc8d3467ee0"
      },
      "execution_count": 16,
      "outputs": [
        {
          "output_type": "stream",
          "name": "stdout",
          "text": [
            "1/1 [==============================] - 0s 18ms/step\n",
            "Hasil prediksi: dog\n"
          ]
        }
      ]
    }
  ]
}