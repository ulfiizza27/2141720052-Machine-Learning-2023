{
  "nbformat": 4,
  "nbformat_minor": 0,
  "metadata": {
    "colab": {
      "provenance": [],
      "authorship_tag": "ABX9TyPfetaM2ihV3ooyayDQDHBK",
      "include_colab_link": true
    },
    "kernelspec": {
      "name": "python3",
      "display_name": "Python 3"
    },
    "language_info": {
      "name": "python"
    }
  },
  "cells": [
    {
      "cell_type": "markdown",
      "metadata": {
        "id": "view-in-github",
        "colab_type": "text"
      },
      "source": [
        "<a href=\"https://colab.research.google.com/github/ulfiizza27/2141720052-Machine-Learning-2023/blob/main/Week%209/TugasPraktikum.ipynb\" target=\"_parent\"><img src=\"https://colab.research.google.com/assets/colab-badge.svg\" alt=\"Open In Colab\"/></a>"
      ]
    },
    {
      "cell_type": "markdown",
      "source": [
        "| Nama                                | No | NIM        |\n",
        "| ----------------------------------- | -- | ---------- |\n",
        "| Ulfi Mustatiq Abidatul Izza         | 26 | 2141720052 |"
      ],
      "metadata": {
        "id": "MvysKX6rpPTg"
      }
    },
    {
      "cell_type": "markdown",
      "source": [
        "# **Tugas**\n",
        "\n",
        "1. Lakukan klasifikasi pada data MNIST dengan menggunakan model ANN\n",
        "2. Anda diperbolehkan melakukan eksplorasi terhadap,\n",
        "  - Metode pra pengolahan\n",
        "  - Pemilihan fitur\n",
        "  - Arsitektur ANN\n",
        "  - Fungsi Aktiviasi\n",
        "3. ANN diimplementasikan dengan menggunakan tensorflow.\n",
        "4. DIKERJAKAN SECARA BERKELOMPOK\n",
        "5. JELASKAN HASIL YANG ANDA DAPATKAN,\n",
        "  - AKURASI\n",
        "  - CONFUSION MATRIX\n",
        "  - KONFIGURASI MODEL --> MULAI DARI PRA PENGOLAHAN SAMPAI ARSITEKTUR ANN\n",
        "\n",
        "# **Jawab**"
      ],
      "metadata": {
        "id": "-A2fbVIcU2Yv"
      }
    },
    {
      "cell_type": "markdown",
      "source": [
        "### Langkah 1: Impor Library"
      ],
      "metadata": {
        "id": "8UxGRrSzV-Sn"
      }
    },
    {
      "cell_type": "code",
      "execution_count": 1,
      "metadata": {
        "id": "T28S2CDNUvuT"
      },
      "outputs": [],
      "source": [
        "import tensorflow as tf\n",
        "from sklearn import datasets\n",
        "from sklearn.preprocessing import MinMaxScaler\n",
        "from sklearn.decomposition import PCA\n",
        "from sklearn.model_selection import train_test_split\n",
        "from tensorflow.keras.models import Sequential\n",
        "from tensorflow.keras.layers import Dense\n",
        "from sklearn.metrics import confusion_matrix\n",
        "import numpy as np\n",
        "from sklearn.metrics import confusion_matrix, accuracy_score\n",
        "import seaborn as sns\n",
        "import matplotlib.pyplot as plt"
      ]
    },
    {
      "cell_type": "markdown",
      "source": [
        "### Langkah 2: Muat Data MNIST dan Pra-Pemrosesan\n",
        "- Pra-pemrosesan data meliputi normalisasi dan ekstraksi fitur menggunakan PCA."
      ],
      "metadata": {
        "id": "A1b0HR67mw8t"
      }
    },
    {
      "cell_type": "code",
      "source": [
        "mnist = datasets.fetch_openml(\"mnist_784\")"
      ],
      "metadata": {
        "id": "2wJMpbtmWwuh",
        "colab": {
          "base_uri": "https://localhost:8080/"
        },
        "outputId": "29628399-4eff-4af0-8035-4f11666d3065"
      },
      "execution_count": 2,
      "outputs": [
        {
          "output_type": "stream",
          "name": "stderr",
          "text": [
            "/usr/local/lib/python3.10/dist-packages/sklearn/datasets/_openml.py:968: FutureWarning: The default value of `parser` will change from `'liac-arff'` to `'auto'` in 1.4. You can set `parser='auto'` to silence this warning. Therefore, an `ImportError` will be raised from 1.4 if the dataset is dense and pandas is not installed. Note that the pandas parser may return different data types. See the Notes Section in fetch_openml's API doc for details.\n",
            "  warn(\n"
          ]
        }
      ]
    },
    {
      "cell_type": "code",
      "source": [
        "# Melihat dimensi data\n",
        "print(\"Jumlah sampel:\", mnist.data.shape[0])  # Jumlah sampel/data points\n",
        "print(\"Dimensi setiap sampel:\", mnist.data.shape[1])  # Dimensi setiap sampel\n",
        "print(\"Jumlah kelas:\", len(set(mnist.target)))  # Jumlah kelas (unik)"
      ],
      "metadata": {
        "colab": {
          "base_uri": "https://localhost:8080/"
        },
        "id": "RqJ52zmDV26T",
        "outputId": "009b33e6-640e-44cb-be7f-d7d7067bb41f"
      },
      "execution_count": 3,
      "outputs": [
        {
          "output_type": "stream",
          "name": "stdout",
          "text": [
            "Jumlah sampel: 70000\n",
            "Dimensi setiap sampel: 784\n",
            "Jumlah kelas: 10\n"
          ]
        }
      ]
    },
    {
      "cell_type": "code",
      "source": [
        "# Mengambil data dan label\n",
        "X = mnist.data.astype('float32')\n",
        "y = mnist.target.astype('int')"
      ],
      "metadata": {
        "id": "KrT0HtLJXE0s"
      },
      "execution_count": 4,
      "outputs": []
    },
    {
      "cell_type": "code",
      "source": [
        "X.shape"
      ],
      "metadata": {
        "colab": {
          "base_uri": "https://localhost:8080/"
        },
        "id": "Om4cPpewXJqn",
        "outputId": "90a6218c-b899-41ca-b856-cdca4a6c8bf8"
      },
      "execution_count": 5,
      "outputs": [
        {
          "output_type": "execute_result",
          "data": {
            "text/plain": [
              "(70000, 784)"
            ]
          },
          "metadata": {},
          "execution_count": 5
        }
      ]
    },
    {
      "cell_type": "code",
      "source": [
        "# Scaling data menggunakan MinMaxScaler\n",
        "scaler = MinMaxScaler()\n",
        "X_scaled = scaler.fit_transform(X)"
      ],
      "metadata": {
        "id": "gQ0dIPmHYCCv"
      },
      "execution_count": 6,
      "outputs": []
    },
    {
      "cell_type": "code",
      "source": [
        "# Menampilkan 5 data awal\n",
        "print(X_scaled[:5])"
      ],
      "metadata": {
        "colab": {
          "base_uri": "https://localhost:8080/"
        },
        "id": "XY2GZ1_nYhgm",
        "outputId": "5defd516-ba98-4256-9a49-6ef5f1e3d8b3"
      },
      "execution_count": 7,
      "outputs": [
        {
          "output_type": "stream",
          "name": "stdout",
          "text": [
            "[[0. 0. 0. ... 0. 0. 0.]\n",
            " [0. 0. 0. ... 0. 0. 0.]\n",
            " [0. 0. 0. ... 0. 0. 0.]\n",
            " [0. 0. 0. ... 0. 0. 0.]\n",
            " [0. 0. 0. ... 0. 0. 0.]]\n"
          ]
        }
      ]
    },
    {
      "cell_type": "code",
      "source": [
        "# Ekstraksi fitur menggunakan PCA dengan n_components 300\n",
        "pca = PCA(n_components=300)\n",
        "X_pca = pca.fit_transform(X_scaled)"
      ],
      "metadata": {
        "id": "v5xlxde1nleP"
      },
      "execution_count": 8,
      "outputs": []
    },
    {
      "cell_type": "markdown",
      "source": [
        "### Langkah 3: Membagi Data Menjadi Data Pelatihan dan Data Pengujian"
      ],
      "metadata": {
        "id": "y5cGB5vfnfEk"
      }
    },
    {
      "cell_type": "code",
      "source": [
        "# Memisahkan data menjadi data pelatihan dan data pengujian\n",
        "X_train, X_test, y_train, y_test = train_test_split(X_pca, y, test_size=0.2, random_state=42)"
      ],
      "metadata": {
        "id": "ChRboGPlZdsx"
      },
      "execution_count": 9,
      "outputs": []
    },
    {
      "cell_type": "markdown",
      "source": [
        "### Langkah 4: Membangun Model ANN"
      ],
      "metadata": {
        "id": "PdPEqJgmnuUx"
      }
    },
    {
      "cell_type": "code",
      "source": [
        "# Membuat model ANN\n",
        "model = Sequential()\n",
        "\n",
        "# Tambahkan lapisan input\n",
        "model.add(Dense(units=128, activation='relu', input_dim=300))  # 128 unit pada lapisan tersembunyi pertama\n",
        "\n",
        "# Tambahkan lapisan tersembunyi pertama\n",
        "model.add(Dense(units=64, activation='relu'))  # 64 unit pada lapisan tersembunyi kedua\n",
        "\n",
        "# Tambahkan lapisan tersembunyi kedua\n",
        "model.add(Dense(units=32, activation='relu'))  # 32 unit pada lapisan tersembunyi ketiga\n",
        "\n",
        "# Tambahkan lapisan output\n",
        "model.add(Dense(units=10, activation='softmax'))  # 10 unit pada lapisan output untuk klasifikasi 10 kelas\n",
        "\n",
        "# Kompilasi model\n",
        "model.compile(optimizer='adam', loss='sparse_categorical_crossentropy', metrics=['accuracy'])\n",
        "\n",
        "# Tampilkan ringkasan model\n",
        "model.summary()"
      ],
      "metadata": {
        "colab": {
          "base_uri": "https://localhost:8080/"
        },
        "id": "JBb-mdNVbLc9",
        "outputId": "9c931c84-d4d8-4801-c2bb-f15ce60fe591"
      },
      "execution_count": 10,
      "outputs": [
        {
          "output_type": "stream",
          "name": "stdout",
          "text": [
            "Model: \"sequential\"\n",
            "_________________________________________________________________\n",
            " Layer (type)                Output Shape              Param #   \n",
            "=================================================================\n",
            " dense (Dense)               (None, 128)               38528     \n",
            "                                                                 \n",
            " dense_1 (Dense)             (None, 64)                8256      \n",
            "                                                                 \n",
            " dense_2 (Dense)             (None, 32)                2080      \n",
            "                                                                 \n",
            " dense_3 (Dense)             (None, 10)                330       \n",
            "                                                                 \n",
            "=================================================================\n",
            "Total params: 49194 (192.16 KB)\n",
            "Trainable params: 49194 (192.16 KB)\n",
            "Non-trainable params: 0 (0.00 Byte)\n",
            "_________________________________________________________________\n"
          ]
        }
      ]
    },
    {
      "cell_type": "code",
      "source": [
        "model.compile(optimizer='adam',\n",
        "              loss='sparse_categorical_crossentropy',\n",
        "              metrics=['accuracy'])"
      ],
      "metadata": {
        "id": "Oz_2ywsMcJCt"
      },
      "execution_count": 11,
      "outputs": []
    },
    {
      "cell_type": "markdown",
      "source": [
        "### Langkah 5: Melatih Model ANN"
      ],
      "metadata": {
        "id": "3kNu3I74oC5O"
      }
    },
    {
      "cell_type": "code",
      "source": [
        "model.fit(X_train, y_train, epochs=10, batch_size=64, validation_split=0.2)"
      ],
      "metadata": {
        "colab": {
          "base_uri": "https://localhost:8080/"
        },
        "id": "yDItlmYNcvAm",
        "outputId": "90a34b4d-abd6-43e3-d48b-910c73333c70"
      },
      "execution_count": 12,
      "outputs": [
        {
          "output_type": "stream",
          "name": "stdout",
          "text": [
            "Epoch 1/10\n",
            "700/700 [==============================] - 6s 8ms/step - loss: 0.3695 - accuracy: 0.8924 - val_loss: 0.1555 - val_accuracy: 0.9528\n",
            "Epoch 2/10\n",
            "700/700 [==============================] - 2s 3ms/step - loss: 0.1028 - accuracy: 0.9688 - val_loss: 0.1161 - val_accuracy: 0.9646\n",
            "Epoch 3/10\n",
            "700/700 [==============================] - 2s 3ms/step - loss: 0.0590 - accuracy: 0.9824 - val_loss: 0.1116 - val_accuracy: 0.9657\n",
            "Epoch 4/10\n",
            "700/700 [==============================] - 2s 3ms/step - loss: 0.0359 - accuracy: 0.9895 - val_loss: 0.1103 - val_accuracy: 0.9660\n",
            "Epoch 5/10\n",
            "700/700 [==============================] - 3s 4ms/step - loss: 0.0216 - accuracy: 0.9937 - val_loss: 0.1224 - val_accuracy: 0.9656\n",
            "Epoch 6/10\n",
            "700/700 [==============================] - 3s 4ms/step - loss: 0.0156 - accuracy: 0.9952 - val_loss: 0.1225 - val_accuracy: 0.9692\n",
            "Epoch 7/10\n",
            "700/700 [==============================] - 2s 3ms/step - loss: 0.0131 - accuracy: 0.9962 - val_loss: 0.1349 - val_accuracy: 0.9673\n",
            "Epoch 8/10\n",
            "700/700 [==============================] - 2s 3ms/step - loss: 0.0130 - accuracy: 0.9953 - val_loss: 0.1395 - val_accuracy: 0.9680\n",
            "Epoch 9/10\n",
            "700/700 [==============================] - 2s 3ms/step - loss: 0.0108 - accuracy: 0.9960 - val_loss: 0.1439 - val_accuracy: 0.9696\n",
            "Epoch 10/10\n",
            "700/700 [==============================] - 3s 4ms/step - loss: 0.0102 - accuracy: 0.9963 - val_loss: 0.1483 - val_accuracy: 0.9701\n"
          ]
        },
        {
          "output_type": "execute_result",
          "data": {
            "text/plain": [
              "<keras.src.callbacks.History at 0x7af350381d80>"
            ]
          },
          "metadata": {},
          "execution_count": 12
        }
      ]
    },
    {
      "cell_type": "markdown",
      "source": [
        "### Langkah 5: Evaluasi Model\n",
        "- Melakukan evaluasi pada data pelatihan dan data pengujian.\n",
        "- Membuat confusion matrix dan menghitung akurasi."
      ],
      "metadata": {
        "id": "Ey2Fvnw2oGVp"
      }
    },
    {
      "cell_type": "code",
      "source": [
        "# Melakukan evaluasi model pada data pelatihan\n",
        "train_loss, train_accuracy = model.evaluate(X_train, y_train)\n",
        "print(f'Training Loss: {train_loss:.4f}')\n",
        "print(f'Training Accuracy: {train_accuracy:.4f}')"
      ],
      "metadata": {
        "colab": {
          "base_uri": "https://localhost:8080/"
        },
        "id": "aOT0pjWIi75p",
        "outputId": "0cbf4fcc-3c94-4647-838b-6bff47f2488c"
      },
      "execution_count": 13,
      "outputs": [
        {
          "output_type": "stream",
          "name": "stdout",
          "text": [
            "1750/1750 [==============================] - 3s 2ms/step - loss: 0.0361 - accuracy: 0.9919\n",
            "Training Loss: 0.0361\n",
            "Training Accuracy: 0.9919\n"
          ]
        }
      ]
    },
    {
      "cell_type": "code",
      "source": [
        "# Melakukan evaluasi model pada data pengujian\n",
        "loss, accuracy = model.evaluate(X_test, y_test)\n",
        "print(f'Loss: {loss:.4f}')\n",
        "print(f'Accuracy: {accuracy:.4f}')"
      ],
      "metadata": {
        "colab": {
          "base_uri": "https://localhost:8080/"
        },
        "id": "DDm5Cs_Oi_tw",
        "outputId": "34945a96-b010-4493-fe37-92be0b6becde"
      },
      "execution_count": 14,
      "outputs": [
        {
          "output_type": "stream",
          "name": "stdout",
          "text": [
            "438/438 [==============================] - 1s 2ms/step - loss: 0.1611 - accuracy: 0.9689\n",
            "Loss: 0.1611\n",
            "Accuracy: 0.9689\n"
          ]
        }
      ]
    },
    {
      "cell_type": "code",
      "source": [
        "# Memprediksi label kelas dari data pengujian\n",
        "y_pred = model.predict(X_test)\n",
        "y_pred_classes = np.argmax(y_pred, axis=1)\n",
        "\n",
        "# Menghitung confusion matrix\n",
        "confusion_mtx = confusion_matrix(y_test, y_pred_classes)\n",
        "\n",
        "# Mencetak confusion matrix\n",
        "print(\"Confusion Matrix:\")\n",
        "print(confusion_mtx)"
      ],
      "metadata": {
        "colab": {
          "base_uri": "https://localhost:8080/"
        },
        "id": "WW_dAyfOjnbX",
        "outputId": "15dc4016-7745-4bb2-ba7b-aeda459e108c"
      },
      "execution_count": 15,
      "outputs": [
        {
          "output_type": "stream",
          "name": "stdout",
          "text": [
            "438/438 [==============================] - 1s 2ms/step\n",
            "Confusion Matrix:\n",
            "[[1321    1    5    0    2    7    2    1    3    1]\n",
            " [   0 1579    9    2    1    0    0    3    4    2]\n",
            " [   9    7 1335    4    3    2    8    3    8    1]\n",
            " [   1    3   11 1382    0   13    1    9    9    4]\n",
            " [   5    1    5    0 1259    3    4    4    3   11]\n",
            " [   1    1    0   14    0 1244    4    1    8    0]\n",
            " [   8    0    3    1    2   20 1358    0    4    0]\n",
            " [   3    3   14    4    6    1    0 1463    3    6]\n",
            " [   5    9    8   17    3   15    3    5 1288    4]\n",
            " [   7    2    1   16   20    6    0   26    6 1336]]\n"
          ]
        }
      ]
    },
    {
      "cell_type": "code",
      "source": [
        "# Prediksi label\n",
        "y_pred = model.predict(X_test)\n",
        "y_pred = tf.argmax(y_pred, axis=1)\n",
        "\n",
        "# Akurasi\n",
        "accuracy = accuracy_score(y_test, y_pred)\n",
        "print(\"Akurasi Model: {:.2f}%\".format(accuracy * 100))\n",
        "\n",
        "# Confusion matrix\n",
        "conf_matrix = confusion_matrix(y_test, y_pred)\n",
        "plt.figure(figsize=(5, 4))\n",
        "sns.heatmap(conf_matrix, annot=True, fmt='d', cmap='Blues')\n",
        "plt.xlabel('Prediksi')\n",
        "plt.ylabel('Aktual')\n",
        "plt.show()"
      ],
      "metadata": {
        "colab": {
          "base_uri": "https://localhost:8080/",
          "height": 423
        },
        "id": "BunBagZcj6yM",
        "outputId": "ce912590-9d89-43fd-8db2-6da3dc0d5801"
      },
      "execution_count": 19,
      "outputs": [
        {
          "output_type": "stream",
          "name": "stdout",
          "text": [
            "438/438 [==============================] - 1s 3ms/step\n",
            "Akurasi Model: 96.89%\n"
          ]
        },
        {
          "output_type": "display_data",
          "data": {
            "text/plain": [
              "<Figure size 500x400 with 2 Axes>"
            ],
            "image/png": "[encoded data removed]"
          },
          "metadata": {}
        }
      ]
    }
  ]
}